{
  "cells": [
    {
      "cell_type": "code",
      "execution_count": 20,
      "id": "af554d18",
      "metadata": {
        "colab": {
          "base_uri": "https://localhost:8080/"
        },
        "id": "af554d18",
        "outputId": "9a2ca17b-ba73-4429-f473-83fdd32d38af"
      },
      "outputs": [
        {
          "output_type": "stream",
          "name": "stdout",
          "text": [
            "Looking in indexes: https://pypi.org/simple, https://us-python.pkg.dev/colab-wheels/public/simple/\n",
            "Requirement already satisfied: sympy in /usr/local/lib/python3.7/dist-packages (1.7.1)\n",
            "Requirement already satisfied: mpmath>=0.19 in /usr/local/lib/python3.7/dist-packages (from sympy) (1.2.1)\n"
          ]
        }
      ],
      "source": [
        "!pip3 install sympy"
      ]
    },
    {
      "cell_type": "code",
      "execution_count": 21,
      "id": "a85a563d",
      "metadata": {
        "colab": {
          "base_uri": "https://localhost:8080/"
        },
        "id": "a85a563d",
        "outputId": "405b36a8-9879-4188-8e10-be49a5322e6f"
      },
      "outputs": [
        {
          "output_type": "stream",
          "name": "stdout",
          "text": [
            "abc\n",
            "def\n",
            "abc\n",
            "def\n",
            "abc\n",
            "def\n",
            "abc\n",
            "def\n",
            "abc\n",
            "def\n",
            "a의 값은 50 입니다.\n",
            "a=50, b=100\n"
          ]
        }
      ],
      "source": [
        "# Python에서 반복문 & 출력문 사용법\n",
        "\n",
        "# i=0으로 초기화하고 각 iteration마다 i는 1씩 증가하는 iteration을 i==5 전까지 반복\n",
        "# C언어로 나타내면 for(int i=0; i<5; i++)와 같음\n",
        "for i in range(0, 5):\n",
        "    print(\"abc\")   # abc를 출력하라\n",
        "    print(\"def\")   # def를 출력하라  => 각 print문 마다 자동으로 줄바꿈(\\n)이 적용됨\n",
        "\n",
        "    \n",
        "# 변수 출력 예시\n",
        "a = 50\n",
        "b = 100\n",
        "print(f\"a의 값은 {a} 입니다.\")\n",
        "print(\"a={}, b={}\".format(a,b))"
      ]
    },
    {
      "cell_type": "code",
      "execution_count": 22,
      "id": "8ed44017",
      "metadata": {
        "colab": {
          "base_uri": "https://localhost:8080/"
        },
        "id": "8ed44017",
        "outputId": "339cf870-cdcc-4228-b748-115023614e87"
      },
      "outputs": [
        {
          "output_type": "stream",
          "name": "stdout",
          "text": [
            "1번째 피보나치 항 :1\n",
            "2번째 피보나치 항 :1\n",
            "3번째 피보나치 항 :2\n",
            "4번째 피보나치 항 :3\n",
            "5번째 피보나치 항 :5\n",
            "6번째 피보나치 항 :8\n",
            "7번째 피보나치 항 :13\n",
            "8번째 피보나치 항 :21\n",
            "9번째 피보나치 항 :34\n",
            "10번째 피보나치 항 :55\n"
          ]
        }
      ],
      "source": [
        "# 실습 1-1. 주어진 피보나치 수열의 정의를 이용하여 기본적인 재귀적 풀이 방식으로 n번째 피보나치 수를 구하는 fibo_1 함수를 작성하시오.\n",
        "# fibo_1을 이용하여 피보나치 수열의 1~10번째 항을 반복문을 이용하여 출력하시오.\n",
        "# Hint : 3가지 경우로 분기된 피보나치 수열의 정의식을 그대로 코드로 옮겨보자\n",
        "\n",
        "def fibo_1(n):\n",
        "    #TODO\n",
        "    if(n <= 1):\n",
        "      return n\n",
        "    else:\n",
        "      return fibo_1(n-1) + fibo_1(n-2)\n",
        "\n",
        "for n in range(1, 11):\n",
        "    print(f'{n}번째 피보나치 항 :{fibo_1(n)}')"
      ]
    },
    {
      "cell_type": "code",
      "execution_count": 23,
      "id": "536b51bb",
      "metadata": {
        "colab": {
          "base_uri": "https://localhost:8080/"
        },
        "id": "536b51bb",
        "outputId": "c17a5799-e071-41ba-bacc-bda3e861588a"
      },
      "outputs": [
        {
          "output_type": "stream",
          "name": "stdout",
          "text": [
            "1번째 피보나치 항 : 1\n",
            "2번째 피보나치 항 : 1\n",
            "3번째 피보나치 항 : 2\n",
            "4번째 피보나치 항 : 3\n",
            "5번째 피보나치 항 : 5\n",
            "6번째 피보나치 항 : 8\n",
            "7번째 피보나치 항 : 13\n",
            "8번째 피보나치 항 : 21\n",
            "9번째 피보나치 항 : 34\n",
            "10번째 피보나치 항 : 55\n"
          ]
        }
      ],
      "source": [
        "# 실습 1-2. 피보나치 수열의 특징을 이용하여 반복적 풀이 방식으로 n번째 피보나치 수를 구하는 fibo_2 함수를 직성하시오.\n",
        "# fibo_2를 이용하여 피보나치 수열의 1~10번째 항을 반복문을 이용하여 출력하시오.\n",
        "# Hint : 피보나치 수열의 n+1 번째 항은 n-1 번재 항과 n 번째 항을 더한 값이다.\n",
        "\n",
        "def fibo_2(n):\n",
        "    #TODO\n",
        "    if(n <= 1):\n",
        "      return n\n",
        "\n",
        "    a = 0\n",
        "    b = 1\n",
        "    for i in range(n-1):\n",
        "      temp = b\n",
        "      b = a + b\n",
        "      a = temp\n",
        "\n",
        "    return b\n",
        "\n",
        "\n",
        "for n in range(1, 11):\n",
        "    print(f'{n}번째 피보나치 항 : {fibo_2(n)}')"
      ]
    },
    {
      "cell_type": "code",
      "execution_count": 24,
      "id": "94a7039c",
      "metadata": {
        "colab": {
          "base_uri": "https://localhost:8080/"
        },
        "id": "94a7039c",
        "outputId": "a26e70f5-6ae9-46d5-d06d-43be0afa47a4"
      },
      "outputs": [
        {
          "output_type": "stream",
          "name": "stdout",
          "text": [
            "1번째 피보나치 항 : 1\n",
            "2번째 피보나치 항 : 1\n",
            "3번째 피보나치 항 : 2\n",
            "4번째 피보나치 항 : 3\n",
            "5번째 피보나치 항 : 5\n",
            "6번째 피보나치 항 : 8\n",
            "7번째 피보나치 항 : 13\n",
            "8번째 피보나치 항 : 21\n",
            "9번째 피보나치 항 : 34\n",
            "10번째 피보나치 항 : 55\n"
          ]
        }
      ],
      "source": [
        "# 실습 1-3. 동적 계획법과 재귀적 방법 또는 반복문을 이용하여 n번째 피보나치 수를 구하는 fibo_3 함수를 작성하시오\n",
        "# fibo_3을 이용하여 피보나치 수열의 1~10번째 항을 반복문을 이용하여 출력하시오.\n",
        "# Hint : list나 array 같은 자료구조에 n번째 피보나치 수열의 값을 저장한다\n",
        "# Hint(재귀적 방법) : 재귀함수의 재귀 종료조건(=base case)을 n<2, 즉 피보나치 수열의 1번째 항일 때로 설정한다.\n",
        "\n",
        "# 반복문을 사용하였을 경우의 답안\n",
        "\n",
        "\n",
        "def fibo_3(n):\n",
        "    if n < 2:\n",
        "        return n\n",
        "    cache = [0 for _ in range(n+1)]\n",
        "    cache[1] = 1\n",
        "\n",
        "    for i in range(2, n+1):\n",
        "      cache[i] = cache[i-2] + cache[i-1]\n",
        "    \n",
        "    return cache[n]\n",
        "\n",
        "for n in range(1, 11):\n",
        "    print(f'{n}번째 피보나치 항 : {fibo_3(n)}')"
      ]
    },
    {
      "cell_type": "code",
      "execution_count": 25,
      "id": "0691e6da",
      "metadata": {
        "colab": {
          "base_uri": "https://localhost:8080/"
        },
        "id": "0691e6da",
        "outputId": "eeaaf688-7026-4071-878a-c6f3ce59909e"
      },
      "outputs": [
        {
          "output_type": "stream",
          "name": "stdout",
          "text": [
            "1번째 피보나치 항 : 1\n",
            "2번째 피보나치 항 : 1\n",
            "3번째 피보나치 항 : 2\n",
            "4번째 피보나치 항 : 3\n",
            "5번째 피보나치 항 : 5\n",
            "6번째 피보나치 항 : 8\n",
            "7번째 피보나치 항 : 13\n",
            "8번째 피보나치 항 : 21\n",
            "9번째 피보나치 항 : 34\n",
            "10번째 피보나치 항 : 55\n"
          ]
        }
      ],
      "source": [
        "# 실습 1-3. 재귀를 사용하였을 경우의 답안\n",
        "\n",
        "def fibo_3(n):\n",
        "    cache = [-1 for _ in range(n+1)]\n",
        "\n",
        "    def iterate(n):\n",
        "        if n< 2:\n",
        "            return n\n",
        "        \n",
        "        if cache[n] != -1:\n",
        "            #TODO\n",
        "            return cache[n]\n",
        "        \n",
        "        cache[n] = iterate(n-1) + iterate(n-2)\n",
        "\n",
        "        return cache[n]\n",
        "    \n",
        "    return iterate(n)\n",
        "\n",
        "for n in range(1, 11):\n",
        "    print(f'{n}번째 피보나치 항 : {fibo_3(n)}')"
      ]
    },
    {
      "cell_type": "code",
      "execution_count": 26,
      "id": "4d249904",
      "metadata": {
        "colab": {
          "base_uri": "https://localhost:8080/"
        },
        "id": "4d249904",
        "outputId": "e2695606-3b12-42d5-f18f-81e3104a0752"
      },
      "outputs": [
        {
          "output_type": "stream",
          "name": "stdout",
          "text": [
            "[[19 22]\n",
            " [43 50]]\n"
          ]
        }
      ],
      "source": [
        "# NumPy 모듈을 이용한 행렬 곱셈 구현\n",
        "import numpy as np   # numpy 모듈을 np라는 이름으로 현재 소스로 불러오기\n",
        "\n",
        "a = np.array([[1, 2], \n",
        "              [3, 4]])  # 1행이 1, 2고 2행이 3, 4인 2x2 정방행렬 a 정의\n",
        "b = np.array([[5, 6], \n",
        "              [7, 8]])  # 1행이 5, 6이고 2행이 7, 8인 2x2 정방행렬 b 정의\n",
        "c = np.matmul(a, b)   # np.matmul을 이용하여 axb 순으로 행렬곱\n",
        "print(c)"
      ]
    },
    {
      "cell_type": "code",
      "execution_count": 27,
      "id": "a8c1e52f",
      "metadata": {
        "colab": {
          "base_uri": "https://localhost:8080/"
        },
        "id": "a8c1e52f",
        "outputId": "26e5379c-8c2d-4e74-86c2-04d68a8981d5"
      },
      "outputs": [
        {
          "output_type": "stream",
          "name": "stdout",
          "text": [
            "1번째 피보나치 항 : 1\n",
            "2번째 피보나치 항 : 1\n",
            "3번째 피보나치 항 : 2\n",
            "4번째 피보나치 항 : 3\n",
            "5번째 피보나치 항 : 5\n",
            "6번째 피보나치 항 : 8\n",
            "7번째 피보나치 항 : 13\n",
            "8번째 피보나치 항 : 21\n",
            "9번째 피보나치 항 : 34\n",
            "10번째 피보나치 항 : 55\n"
          ]
        }
      ],
      "source": [
        "# 실습 1-4. Numpy를 이용한 행렬 곱셈 풀이를 이용하여 n번째 피보나치 수를 구하는 fibo_4 함수를 작성하시오. \n",
        "# fibo_4를 이용하여 피보나치 수열의 1~10번째 항을 반복문을 이용하여 출력하시오.\n",
        "# Hint : Numpy 모듈의 행렬곱 함수와 피보나치 수열의 행렬곱 관계를 참고한다.\n",
        "\n",
        "import numpy as np\n",
        "\n",
        "def fibo_4(n):\n",
        "    base = np.array([[1, 1], [1, 0]]) # 곱셈을 시작해 나갈 기본 행렬\n",
        "    result = np.array([[1, 0], [0, 1]])\n",
        "\n",
        "    for _ in range(n):\n",
        "      result = np.matmul(base, result)\n",
        "\n",
        "    return result[0,1]\n",
        "\n",
        "for n in range(1, 11):\n",
        "    print(f'{n}번째 피보나치 항 : {fibo_4(n)}')"
      ]
    },
    {
      "cell_type": "code",
      "execution_count": 28,
      "id": "afd3540b",
      "metadata": {
        "colab": {
          "base_uri": "https://localhost:8080/"
        },
        "id": "afd3540b",
        "outputId": "4ee4bdb0-99e1-4fb3-fa6d-833561d2dfbf"
      },
      "outputs": [
        {
          "output_type": "stream",
          "name": "stdout",
          "text": [
            "1번째 피보나치 항 : 1\n",
            "2번째 피보나치 항 : 1\n",
            "3번째 피보나치 항 : 2\n",
            "4번째 피보나치 항 : 3\n",
            "5번째 피보나치 항 : 5\n",
            "6번째 피보나치 항 : 8\n",
            "7번째 피보나치 항 : 13\n",
            "8번째 피보나치 항 : 21\n",
            "9번째 피보나치 항 : 34\n",
            "10번째 피보나치 항 : 55\n"
          ]
        }
      ],
      "source": [
        "# 실습 1-5. 행렬 곱셈을 이용한 풀이를 이용하여 실습 1-4 문제를 해결하는 fibo_5 함수를 구현하시오. \n",
        "# 단, numpy를 사용하지말고 시간 복잡도를 𝑂(log_2⁡𝑛)으로 줄일 것\n",
        "# fibo_5를 이용하여 피보나치 수열의 1~10번째 항을 반복문을 이용하여 출력하시오.\n",
        "# Hint : ppt 참조\n",
        "\n",
        "def fibo_5(n):\n",
        "    SIZE = 2\n",
        "    ZERO = [[1,0], [0,1]]\n",
        "    BASE = [[1,1], [1,0]]\n",
        "\n",
        "    # 두 행렬의 곱을 구한다\n",
        "    def square_matrix_mul(a, b, size=SIZE):\n",
        "        #TODO\n",
        "        result = [[0]*SIZE for i in range(SIZE)]\n",
        "\n",
        "        for i in range(SIZE):\n",
        "          for j in range(SIZE):\n",
        "            for k in range(SIZE):\n",
        "              result[i][j] += a[i][k] * b[k][j]\n",
        "              \n",
        "        return result\n",
        "\n",
        "    # 기본 행렬을 n번 곱한 행렬을 만든다\n",
        "    def get_nth(n):\n",
        "        matrix = ZERO.copy()\n",
        "        k = 0\n",
        "        tmp = BASE.copy()\n",
        "\n",
        "        while 2 ** k <= n:   # 비트 연산을 이용하여 n \n",
        "            if (2**k & n) != 0:\n",
        "                matrix = square_matrix_mul(matrix, tmp)\n",
        "            k += 1\n",
        "            tmp = square_matrix_mul(tmp, tmp)\n",
        "\n",
        "        return matrix\n",
        "\n",
        "    return get_nth(n)[0][1]\n",
        "\n",
        "for n in range(1, 11):\n",
        "    print(f'{n}번째 피보나치 항 : {fibo_5(n)}')"
      ]
    },
    {
      "cell_type": "code",
      "execution_count": 29,
      "id": "9e029d20",
      "metadata": {
        "colab": {
          "base_uri": "https://localhost:8080/"
        },
        "id": "9e029d20",
        "outputId": "88b8869d-220a-40e0-ee21-060fd9361f86"
      },
      "outputs": [
        {
          "output_type": "stream",
          "name": "stdout",
          "text": [
            "비트 연산 and(&), or(|), xor(^) \n",
            "16\n",
            "27\n",
            "11\n",
            "---------------------------------\n",
            "\n",
            "비트 연산 shift << \n",
            "6\n",
            "12\n",
            "---------------------------------\n",
            "\n",
            "비트 연산 shift >> \n",
            "18\n",
            "9\n",
            "---------------------------------\n",
            "\n"
          ]
        }
      ],
      "source": [
        "# 실습 1-5 : Hint 3 관련 소스\n",
        "\n",
        "# 비트연산 : and(&), or(|), xor(^)\n",
        "print(\"비트 연산 and(&), or(|), xor(^) \")\n",
        "a = 18     # 10010\n",
        "b = 25     # 11001\n",
        "print(a & b)     # 10010 & 11001 => 10000 (= 16, 같은 위치의 두 비트가 둘 다 1이면 1. 둘 다 0이거나 다르면 0)\n",
        "print(a | b)     # 10010 | 11001 => 11011 (= 27, 같은 위치의 두 비트 둘 중 하나가 1일 경우 1, 나머지는 0)\n",
        "print(a ^ b)     # 10010 ^ 11001 => 01011 (= 11, 같은 위치의 두 비트가 다르면 1, 같으면 0)\n",
        "print(\"---------------------------------\\n\")\n",
        "\n",
        "# 비트 연산 : shift\n",
        "# A << B : A를 비트 단위에서 왼쪽으로 B만큼 이동\n",
        "# a << 1 연산은 a에 2를 곱한 것과 같다\n",
        "print(\"비트 연산 shift << \")\n",
        "a = 3     # 11\n",
        "print(a << 1)     # 11 => 110 (= 6)\n",
        "print(a << 2)     # 11 => 1100 (= 12)\n",
        "print(\"---------------------------------\\n\")\n",
        "\n",
        "# A >> B : A를 비트 단위에서 오른쪽으로 B만큼 이동\n",
        "# a >> 1 연산은 a에 2를 나눈 것과 같다\n",
        "print(\"비트 연산 shift >> \")\n",
        "a = 37     # 100101\n",
        "print(a >> 1)     # 100101 => 10010 (= 18)\n",
        "print(a >> 2)     # 100101 => 1001 (= 9)\n",
        "print(\"---------------------------------\\n\")\n"
      ]
    },
    {
      "cell_type": "code",
      "execution_count": 30,
      "id": "7eced784",
      "metadata": {
        "colab": {
          "base_uri": "https://localhost:8080/"
        },
        "id": "7eced784",
        "outputId": "17d3d3e6-3015-4206-b4a6-b48e2a639b97"
      },
      "outputs": [
        {
          "output_type": "stream",
          "name": "stdout",
          "text": [
            "x =  [3]\n",
            "<class 'list'>\n",
            "2의 root 값 :  1.4142135623730951\n"
          ]
        }
      ],
      "source": [
        "# Sympy 사용법\n",
        "import sympy   # Symbolic mathemathics of Python. 수학 공식 정의 및 풀이 관련 파이썬 패키지\n",
        "\n",
        "# ex) 6x - 1 = x + 14 라는 방정식의 해를 구하려면\n",
        "x = sympy.symbols(\"x\")   # 변수 x 정의\n",
        "f = sympy.Eq(6*x-1, x+14)   # 방정식의 좌항, 우항을 차례대로 정의\n",
        "print('x = ', sympy.solve(f))   # solve() 함수로 방정식 f의 해 구하기\n",
        "print(type(sympy.solve(f)))   # 해의 type은 list로 방정식의 모든 해를 원소 값으로 가진다.\n",
        "\n",
        "\n",
        "# Python에서 제곱근(Square Root) 구하는 방법\n",
        "import math   # 수학 관련 함수가 있는 파이썬 기본 패키지\n",
        "a = 2\n",
        "print('2의 root 값 : ', math.sqrt(a))   # math 패키지의 sqrt() 함수 사용"
      ]
    },
    {
      "cell_type": "code",
      "execution_count": 31,
      "id": "098e560e",
      "metadata": {
        "colab": {
          "base_uri": "https://localhost:8080/"
        },
        "id": "098e560e",
        "outputId": "2de180a8-98b7-4f76-bfd9-3afb4b006b51"
      },
      "outputs": [
        {
          "output_type": "stream",
          "name": "stdout",
          "text": [
            "식 f의 해 : [1/2 - sqrt(5)/2, 1/2 + sqrt(5)/2]\n",
            "황금비 : 1:1.618033988749895\n"
          ]
        }
      ],
      "source": [
        "# 실습 2-1. 황금비의 정의와 sympy, math 패키지를 이용하여 황금비를 실수 형태로 출력하시오.\n",
        "\n",
        "x = sympy.symbols(\"x\")\n",
        "f = sympy.Eq(x**2, x + 1)\n",
        "#TODO  # x:1=x+1:x의 내항과 외항을 곱하면 x^2=x+1인데 이 방정식을 sympy를 이용하여 정의\n",
        "print(f'식 f의 해 : {sympy.solve(f)}')  # solve 메소드를 사용하여 식 f에 대한 symbol x의 해를 구함\n",
        "print(f'황금비 : 1:{math.sqrt(max(sympy.solve(f)))**2}')  # 방정식의 해 중 양수 값의 황금비 출력"
      ]
    },
    {
      "cell_type": "code",
      "execution_count": 32,
      "id": "80916cfd",
      "metadata": {
        "colab": {
          "base_uri": "https://localhost:8080/"
        },
        "id": "80916cfd",
        "outputId": "4bad6436-50cb-4759-a094-d835602d6b5a"
      },
      "outputs": [
        {
          "output_type": "stream",
          "name": "stdout",
          "text": [
            "1과 2번째 피보나치 수열의 비율 : 1.0\n",
            "2과 3번째 피보나치 수열의 비율 : 2.0\n",
            "3과 4번째 피보나치 수열의 비율 : 1.5\n",
            "4과 5번째 피보나치 수열의 비율 : 1.6666666666666667\n",
            "5과 6번째 피보나치 수열의 비율 : 1.6\n",
            "6과 7번째 피보나치 수열의 비율 : 1.625\n",
            "7과 8번째 피보나치 수열의 비율 : 1.6153846153846154\n",
            "8과 9번째 피보나치 수열의 비율 : 1.619047619047619\n",
            "9과 10번째 피보나치 수열의 비율 : 1.6176470588235294\n",
            "10과 11번째 피보나치 수열의 비율 : 1.6181818181818182\n",
            "11과 12번째 피보나치 수열의 비율 : 1.6179775280898876\n",
            "12과 13번째 피보나치 수열의 비율 : 1.6180555555555556\n",
            "13과 14번째 피보나치 수열의 비율 : 1.6180257510729614\n",
            "14과 15번째 피보나치 수열의 비율 : 1.6180371352785146\n",
            "15과 16번째 피보나치 수열의 비율 : 1.618032786885246\n"
          ]
        }
      ],
      "source": [
        "# 실습 2-2. 실습 1에서 만든 피보나치 수열을 구하는 함수를 이용하여 피보나치 수열 15번째까지의 원소들에 대하여 n+1번째 항과 n번째 항의 \n",
        "# 비율을 구하고 해당 비율이 어떤 값으로 수렴해나가는지 관찰해보시오.\n",
        "# Hint : (n+1) / (n) 의 비율을 구하면 실습 2-1에서 구한 황금비의 값과 같아짐을 알 수 있다.\n",
        "\n",
        "def fibo(n):\n",
        "    base = np.array([[1, 1], [1, 0]]) # 곱셈을 시작해 나갈 기본 행렬\n",
        "    result = np.array([[1, 0], [0, 1]])\n",
        "\n",
        "    for _ in range(n):\n",
        "      result = np.matmul(base, result)\n",
        "\n",
        "    return result[0,1]\n",
        "    \n",
        "\n",
        "fibo_ratio_list = list()\n",
        "for n in range(1, 16):\n",
        "    fibo_ratio = fibo(n+1) / fibo(n)\n",
        "    fibo_ratio_list.append(fibo_ratio)\n",
        "    print(f'{n}과 {n+1}번째 피보나치 수열의 비율 : {fibo_ratio}')\n",
        "    "
      ]
    },
    {
      "cell_type": "code",
      "execution_count": 33,
      "id": "d54bffac",
      "metadata": {
        "colab": {
          "base_uri": "https://localhost:8080/",
          "height": 1000
        },
        "id": "d54bffac",
        "outputId": "b183512b-b9f5-404f-a4a5-ca092831c0a0"
      },
      "outputs": [
        {
          "output_type": "stream",
          "name": "stdout",
          "text": [
            "Looking in indexes: https://pypi.org/simple, https://us-python.pkg.dev/colab-wheels/public/simple/\n",
            "Requirement already satisfied: ColabTurtlePlus in /usr/local/lib/python3.7/dist-packages (2.0.1)\n"
          ]
        },
        {
          "output_type": "display_data",
          "data": {
            "text/plain": [
              "<IPython.core.display.HTML object>"
            ],
            "text/html": [
              "\n",
              "      <svg width=\"800\" height=\"600\">  \n",
              "        <rect width=\"100%\" height=\"100%\" style=\"fill:white;stroke:;stroke-width:1\"/>\n",
              "        \n",
              "        \n",
              "        \n",
              "        \n",
              "        \n",
              "        <g id=\"classic\" visibility=\"visible\" transform=\"rotate(-90,400.0,300.0) translate(400.0, 300.0)\">\n",
              "<polygon points=\"-5,-4.5 0,-2.5 5,-4.5 0,4.5\" transform=\"skewX(0) scale(1,1)\" style=\"stroke:black;fill:black;stroke-width:1\" />\n",
              "</g><g id=\"classic\" visibility=\"visible\" transform=\"rotate(-90,400.0,300.0) translate(400.0, 300.0)\">\n",
              "<polygon points=\"-5,-4.5 0,-2.5 5,-4.5 0,4.5\" transform=\"skewX(0) scale(1,1)\" style=\"stroke:black;fill:black;stroke-width:1\" />\n",
              "</g>\n",
              "      </svg>\n",
              "    "
            ]
          },
          "metadata": {}
        },
        {
          "output_type": "display_data",
          "data": {
            "text/plain": [
              "<IPython.core.display.HTML object>"
            ],
            "text/html": [
              "\n",
              "      <svg width=\"1500\" height=\"1500\">  \n",
              "        <rect width=\"100%\" height=\"100%\" style=\"fill:white;stroke:;stroke-width:1\"/>\n",
              "        \n",
              "        \n",
              "        <line x1=\"750.0\" y1=\"750.0\" x2=\"760.0\" y2=\"750.0\" stroke-linecap=\"round\" style=\"stroke:black;stroke-width:3\" /><line x1=\"760.0\" y1=\"750.0\" x2=\"760.0\" y2=\"740.0\" stroke-linecap=\"round\" style=\"stroke:black;stroke-width:3\" /><line x1=\"760.0\" y1=\"740.0\" x2=\"750.0\" y2=\"740.0\" stroke-linecap=\"round\" style=\"stroke:black;stroke-width:3\" /><line x1=\"750.0\" y1=\"740.0\" x2=\"750.0\" y2=\"750.0\" stroke-linecap=\"round\" style=\"stroke:black;stroke-width:3\" /><line x1=\"750.0\" y1=\"750.0\" x2=\"760.0\" y2=\"750.0\" stroke-linecap=\"round\" style=\"stroke:black;stroke-width:3\" /><line x1=\"760.0\" y1=\"750.0\" x2=\"760.0\" y2=\"740.0\" stroke-linecap=\"round\" style=\"stroke:black;stroke-width:3\" /><line x1=\"760.0\" y1=\"740.0\" x2=\"760.0\" y2=\"730.0\" stroke-linecap=\"round\" style=\"stroke:black;stroke-width:3\" /><line x1=\"760.0\" y1=\"730.0\" x2=\"750.0\" y2=\"730.0\" stroke-linecap=\"round\" style=\"stroke:black;stroke-width:3\" /><line x1=\"750.0\" y1=\"730.0\" x2=\"750.0\" y2=\"740.0\" stroke-linecap=\"round\" style=\"stroke:black;stroke-width:3\" /><line x1=\"750.0\" y1=\"740.0\" x2=\"760.0\" y2=\"740.0\" stroke-linecap=\"round\" style=\"stroke:black;stroke-width:3\" /><line x1=\"760.0\" y1=\"740.0\" x2=\"760.0\" y2=\"730.0\" stroke-linecap=\"round\" style=\"stroke:black;stroke-width:3\" /><line x1=\"760.0\" y1=\"730.0\" x2=\"750.0\" y2=\"730.0\" stroke-linecap=\"round\" style=\"stroke:black;stroke-width:3\" /><line x1=\"750.0\" y1=\"730.0\" x2=\"730.0\" y2=\"730.0\" stroke-linecap=\"round\" style=\"stroke:black;stroke-width:3\" /><line x1=\"730.0\" y1=\"730.0\" x2=\"730.0\" y2=\"750.0\" stroke-linecap=\"round\" style=\"stroke:black;stroke-width:3\" /><line x1=\"730.0\" y1=\"750.0\" x2=\"750.0\" y2=\"750.0\" stroke-linecap=\"round\" style=\"stroke:black;stroke-width:3\" /><line x1=\"750.0\" y1=\"750.0\" x2=\"750.0\" y2=\"730.0\" stroke-linecap=\"round\" style=\"stroke:black;stroke-width:3\" /><line x1=\"750.0\" y1=\"730.0\" x2=\"730.0\" y2=\"730.0\" stroke-linecap=\"round\" style=\"stroke:black;stroke-width:3\" /><line x1=\"730.0\" y1=\"730.0\" x2=\"730.0\" y2=\"750.0\" stroke-linecap=\"round\" style=\"stroke:black;stroke-width:3\" /><line x1=\"730.0\" y1=\"750.0\" x2=\"730.0\" y2=\"780.0\" stroke-linecap=\"round\" style=\"stroke:black;stroke-width:3\" /><line x1=\"730.0\" y1=\"780.0\" x2=\"760.0\" y2=\"780.0\" stroke-linecap=\"round\" style=\"stroke:black;stroke-width:3\" /><line x1=\"760.0\" y1=\"780.0\" x2=\"760.0\" y2=\"750.0\" stroke-linecap=\"round\" style=\"stroke:black;stroke-width:3\" /><line x1=\"760.0\" y1=\"750.0\" x2=\"730.0\" y2=\"750.0\" stroke-linecap=\"round\" style=\"stroke:black;stroke-width:3\" /><line x1=\"730.0\" y1=\"750.0\" x2=\"730.0\" y2=\"780.0\" stroke-linecap=\"round\" style=\"stroke:black;stroke-width:3\" /><line x1=\"730.0\" y1=\"780.0\" x2=\"760.0\" y2=\"780.0\" stroke-linecap=\"round\" style=\"stroke:black;stroke-width:3\" /><line x1=\"760.0\" y1=\"780.0\" x2=\"810.0\" y2=\"780.0\" stroke-linecap=\"round\" style=\"stroke:black;stroke-width:3\" /><line x1=\"810.0\" y1=\"780.0\" x2=\"810.0\" y2=\"730.0\" stroke-linecap=\"round\" style=\"stroke:black;stroke-width:3\" /><line x1=\"810.0\" y1=\"730.0\" x2=\"760.0\" y2=\"730.0\" stroke-linecap=\"round\" style=\"stroke:black;stroke-width:3\" /><line x1=\"760.0\" y1=\"730.0\" x2=\"760.0\" y2=\"780.0\" stroke-linecap=\"round\" style=\"stroke:black;stroke-width:3\" /><line x1=\"760.0\" y1=\"780.0\" x2=\"810.0\" y2=\"780.0\" stroke-linecap=\"round\" style=\"stroke:black;stroke-width:3\" /><line x1=\"810.0\" y1=\"780.0\" x2=\"810.0\" y2=\"730.0\" stroke-linecap=\"round\" style=\"stroke:black;stroke-width:3\" /><line x1=\"810.0\" y1=\"730.0\" x2=\"810.0\" y2=\"650.0\" stroke-linecap=\"round\" style=\"stroke:black;stroke-width:3\" /><line x1=\"810.0\" y1=\"650.0\" x2=\"730.0\" y2=\"650.0\" stroke-linecap=\"round\" style=\"stroke:black;stroke-width:3\" /><line x1=\"730.0\" y1=\"650.0\" x2=\"730.0\" y2=\"730.0\" stroke-linecap=\"round\" style=\"stroke:black;stroke-width:3\" /><line x1=\"730.0\" y1=\"730.0\" x2=\"810.0\" y2=\"730.0\" stroke-linecap=\"round\" style=\"stroke:black;stroke-width:3\" /><line x1=\"810.0\" y1=\"730.0\" x2=\"810.0\" y2=\"650.0\" stroke-linecap=\"round\" style=\"stroke:black;stroke-width:3\" /><line x1=\"810.0\" y1=\"650.0\" x2=\"730.0\" y2=\"650.0\" stroke-linecap=\"round\" style=\"stroke:black;stroke-width:3\" /><line x1=\"730.0\" y1=\"650.0\" x2=\"600.0\" y2=\"650.0\" stroke-linecap=\"round\" style=\"stroke:black;stroke-width:3\" /><line x1=\"600.0\" y1=\"650.0\" x2=\"600.0\" y2=\"780.0\" stroke-linecap=\"round\" style=\"stroke:black;stroke-width:3\" /><line x1=\"600.0\" y1=\"780.0\" x2=\"730.0\" y2=\"780.0\" stroke-linecap=\"round\" style=\"stroke:black;stroke-width:3\" /><line x1=\"730.0\" y1=\"780.0\" x2=\"730.0\" y2=\"650.0\" stroke-linecap=\"round\" style=\"stroke:black;stroke-width:3\" /><line x1=\"730.0\" y1=\"650.0\" x2=\"600.0\" y2=\"650.0\" stroke-linecap=\"round\" style=\"stroke:black;stroke-width:3\" /><line x1=\"600.0\" y1=\"650.0\" x2=\"600.0\" y2=\"780.0\" stroke-linecap=\"round\" style=\"stroke:black;stroke-width:3\" /><line x1=\"600.0\" y1=\"780.0\" x2=\"600.0\" y2=\"990.0\" stroke-linecap=\"round\" style=\"stroke:black;stroke-width:3\" /><line x1=\"600.0\" y1=\"990.0\" x2=\"810.0\" y2=\"990.0\" stroke-linecap=\"round\" style=\"stroke:black;stroke-width:3\" /><line x1=\"810.0\" y1=\"990.0\" x2=\"810.0\" y2=\"780.0\" stroke-linecap=\"round\" style=\"stroke:black;stroke-width:3\" /><line x1=\"810.0\" y1=\"780.0\" x2=\"600.0\" y2=\"780.0\" stroke-linecap=\"round\" style=\"stroke:black;stroke-width:3\" /><line x1=\"600.0\" y1=\"780.0\" x2=\"600.0\" y2=\"990.0\" stroke-linecap=\"round\" style=\"stroke:black;stroke-width:3\" /><line x1=\"600.0\" y1=\"990.0\" x2=\"810.0\" y2=\"990.0\" stroke-linecap=\"round\" style=\"stroke:black;stroke-width:3\" /><line x1=\"810.0\" y1=\"990.0\" x2=\"1150.0\" y2=\"990.0\" stroke-linecap=\"round\" style=\"stroke:black;stroke-width:3\" /><line x1=\"1150.0\" y1=\"990.0\" x2=\"1150.0\" y2=\"650.0\" stroke-linecap=\"round\" style=\"stroke:black;stroke-width:3\" /><line x1=\"1150.0\" y1=\"650.0\" x2=\"810.0\" y2=\"650.0\" stroke-linecap=\"round\" style=\"stroke:black;stroke-width:3\" /><line x1=\"810.0\" y1=\"650.0\" x2=\"810.0\" y2=\"990.0\" stroke-linecap=\"round\" style=\"stroke:black;stroke-width:3\" /><line x1=\"810.0\" y1=\"990.0\" x2=\"1150.0\" y2=\"990.0\" stroke-linecap=\"round\" style=\"stroke:black;stroke-width:3\" /><line x1=\"1150.0\" y1=\"990.0\" x2=\"1150.0\" y2=\"650.0\" stroke-linecap=\"round\" style=\"stroke:black;stroke-width:3\" /><line x1=\"1150.0\" y1=\"650.0\" x2=\"1150.0\" y2=\"100.0\" stroke-linecap=\"round\" style=\"stroke:black;stroke-width:3\" /><line x1=\"1150.0\" y1=\"100.0\" x2=\"600.0\" y2=\"100.0\" stroke-linecap=\"round\" style=\"stroke:black;stroke-width:3\" /><line x1=\"600.0\" y1=\"100.0\" x2=\"600.0\" y2=\"650.0\" stroke-linecap=\"round\" style=\"stroke:black;stroke-width:3\" /><line x1=\"600.0\" y1=\"650.0\" x2=\"1150.0\" y2=\"650.0\" stroke-linecap=\"round\" style=\"stroke:black;stroke-width:3\" /><line x1=\"1150.0\" y1=\"650.0\" x2=\"1150.0\" y2=\"100.0\" stroke-linecap=\"round\" style=\"stroke:black;stroke-width:3\" /><line x1=\"1150.0\" y1=\"100.0\" x2=\"600.0\" y2=\"100.0\" stroke-linecap=\"round\" style=\"stroke:black;stroke-width:3\" /><line x1=\"750.0\" y1=\"750.0\" x2=\"753.852\" y2=\"749.234\" stroke-linecap=\"round\" style=\"stroke:black;stroke-width:3\" /><line x1=\"753.852\" y1=\"749.234\" x2=\"757.117\" y2=\"747.052\" stroke-linecap=\"round\" style=\"stroke:black;stroke-width:3\" /><line x1=\"757.117\" y1=\"747.052\" x2=\"759.299\" y2=\"743.787\" stroke-linecap=\"round\" style=\"stroke:black;stroke-width:3\" /><line x1=\"759.299\" y1=\"743.787\" x2=\"760.065\" y2=\"739.935\" stroke-linecap=\"round\" style=\"stroke:black;stroke-width:3\" /><line x1=\"760.065\" y1=\"739.935\" x2=\"759.299\" y2=\"736.083\" stroke-linecap=\"round\" style=\"stroke:black;stroke-width:3\" /><line x1=\"759.299\" y1=\"736.083\" x2=\"757.117\" y2=\"732.818\" stroke-linecap=\"round\" style=\"stroke:black;stroke-width:3\" /><line x1=\"757.117\" y1=\"732.818\" x2=\"753.852\" y2=\"730.636\" stroke-linecap=\"round\" style=\"stroke:black;stroke-width:3\" /><line x1=\"753.852\" y1=\"730.636\" x2=\"750.0\" y2=\"729.87\" stroke-linecap=\"round\" style=\"stroke:black;stroke-width:3\" /><line x1=\"750.0\" y1=\"729.87\" x2=\"746.092\" y2=\"730.255\" stroke-linecap=\"round\" style=\"stroke:black;stroke-width:3\" /><line x1=\"746.092\" y1=\"730.255\" x2=\"742.334\" y2=\"731.395\" stroke-linecap=\"round\" style=\"stroke:black;stroke-width:3\" /><line x1=\"742.334\" y1=\"731.395\" x2=\"738.871\" y2=\"733.246\" stroke-linecap=\"round\" style=\"stroke:black;stroke-width:3\" /><line x1=\"738.871\" y1=\"733.246\" x2=\"735.835\" y2=\"735.737\" stroke-linecap=\"round\" style=\"stroke:black;stroke-width:3\" /><line x1=\"735.835\" y1=\"735.737\" x2=\"733.344\" y2=\"738.773\" stroke-linecap=\"round\" style=\"stroke:black;stroke-width:3\" /><line x1=\"733.344\" y1=\"738.773\" x2=\"731.493\" y2=\"742.236\" stroke-linecap=\"round\" style=\"stroke:black;stroke-width:3\" /><line x1=\"731.493\" y1=\"742.236\" x2=\"730.353\" y2=\"745.994\" stroke-linecap=\"round\" style=\"stroke:black;stroke-width:3\" /><line x1=\"730.353\" y1=\"745.994\" x2=\"729.968\" y2=\"749.902\" stroke-linecap=\"round\" style=\"stroke:black;stroke-width:3\" /><line x1=\"729.968\" y1=\"749.902\" x2=\"730.225\" y2=\"753.821\" stroke-linecap=\"round\" style=\"stroke:black;stroke-width:3\" /><line x1=\"730.225\" y1=\"753.821\" x2=\"730.991\" y2=\"757.673\" stroke-linecap=\"round\" style=\"stroke:black;stroke-width:3\" /><line x1=\"730.991\" y1=\"757.673\" x2=\"732.253\" y2=\"761.392\" stroke-linecap=\"round\" style=\"stroke:black;stroke-width:3\" /><line x1=\"732.253\" y1=\"761.392\" x2=\"733.99\" y2=\"764.914\" stroke-linecap=\"round\" style=\"stroke:black;stroke-width:3\" /><line x1=\"733.99\" y1=\"764.914\" x2=\"736.172\" y2=\"768.179\" stroke-linecap=\"round\" style=\"stroke:black;stroke-width:3\" /><line x1=\"736.172\" y1=\"768.179\" x2=\"738.761\" y2=\"771.131\" stroke-linecap=\"round\" style=\"stroke:black;stroke-width:3\" /><line x1=\"738.761\" y1=\"771.131\" x2=\"741.713\" y2=\"773.72\" stroke-linecap=\"round\" style=\"stroke:black;stroke-width:3\" /><line x1=\"741.713\" y1=\"773.72\" x2=\"744.978\" y2=\"775.902\" stroke-linecap=\"round\" style=\"stroke:black;stroke-width:3\" /><line x1=\"744.978\" y1=\"775.902\" x2=\"748.5\" y2=\"777.639\" stroke-linecap=\"round\" style=\"stroke:black;stroke-width:3\" /><line x1=\"748.5\" y1=\"777.639\" x2=\"752.219\" y2=\"778.901\" stroke-linecap=\"round\" style=\"stroke:black;stroke-width:3\" /><line x1=\"752.219\" y1=\"778.901\" x2=\"756.071\" y2=\"779.667\" stroke-linecap=\"round\" style=\"stroke:black;stroke-width:3\" /><line x1=\"756.071\" y1=\"779.667\" x2=\"759.99\" y2=\"779.924\" stroke-linecap=\"round\" style=\"stroke:black;stroke-width:3\" /><line x1=\"759.99\" y1=\"779.924\" x2=\"763.914\" y2=\"779.77\" stroke-linecap=\"round\" style=\"stroke:black;stroke-width:3\" /><line x1=\"763.914\" y1=\"779.77\" x2=\"767.814\" y2=\"779.308\" stroke-linecap=\"round\" style=\"stroke:black;stroke-width:3\" /><line x1=\"767.814\" y1=\"779.308\" x2=\"771.666\" y2=\"778.542\" stroke-linecap=\"round\" style=\"stroke:black;stroke-width:3\" /><line x1=\"771.666\" y1=\"778.542\" x2=\"775.446\" y2=\"777.476\" stroke-linecap=\"round\" style=\"stroke:black;stroke-width:3\" /><line x1=\"775.446\" y1=\"777.476\" x2=\"779.13\" y2=\"776.117\" stroke-linecap=\"round\" style=\"stroke:black;stroke-width:3\" /><line x1=\"779.13\" y1=\"776.117\" x2=\"782.696\" y2=\"774.473\" stroke-linecap=\"round\" style=\"stroke:black;stroke-width:3\" /><line x1=\"782.696\" y1=\"774.473\" x2=\"786.122\" y2=\"772.554\" stroke-linecap=\"round\" style=\"stroke:black;stroke-width:3\" /><line x1=\"786.122\" y1=\"772.554\" x2=\"789.387\" y2=\"770.372\" stroke-linecap=\"round\" style=\"stroke:black;stroke-width:3\" /><line x1=\"789.387\" y1=\"770.372\" x2=\"792.471\" y2=\"767.941\" stroke-linecap=\"round\" style=\"stroke:black;stroke-width:3\" /><line x1=\"792.471\" y1=\"767.941\" x2=\"795.355\" y2=\"765.275\" stroke-linecap=\"round\" style=\"stroke:black;stroke-width:3\" /><line x1=\"795.355\" y1=\"765.275\" x2=\"798.021\" y2=\"762.391\" stroke-linecap=\"round\" style=\"stroke:black;stroke-width:3\" /><line x1=\"798.021\" y1=\"762.391\" x2=\"800.452\" y2=\"759.307\" stroke-linecap=\"round\" style=\"stroke:black;stroke-width:3\" /><line x1=\"800.452\" y1=\"759.307\" x2=\"802.634\" y2=\"756.042\" stroke-linecap=\"round\" style=\"stroke:black;stroke-width:3\" /><line x1=\"802.634\" y1=\"756.042\" x2=\"804.553\" y2=\"752.616\" stroke-linecap=\"round\" style=\"stroke:black;stroke-width:3\" /><line x1=\"804.553\" y1=\"752.616\" x2=\"806.197\" y2=\"749.05\" stroke-linecap=\"round\" style=\"stroke:black;stroke-width:3\" /><line x1=\"806.197\" y1=\"749.05\" x2=\"807.556\" y2=\"745.366\" stroke-linecap=\"round\" style=\"stroke:black;stroke-width:3\" /><line x1=\"807.556\" y1=\"745.366\" x2=\"808.622\" y2=\"741.586\" stroke-linecap=\"round\" style=\"stroke:black;stroke-width:3\" /><line x1=\"808.622\" y1=\"741.586\" x2=\"809.388\" y2=\"737.734\" stroke-linecap=\"round\" style=\"stroke:black;stroke-width:3\" /><line x1=\"809.388\" y1=\"737.734\" x2=\"809.85\" y2=\"733.834\" stroke-linecap=\"round\" style=\"stroke:black;stroke-width:3\" /><line x1=\"809.85\" y1=\"733.834\" x2=\"810.004\" y2=\"729.91\" stroke-linecap=\"round\" style=\"stroke:black;stroke-width:3\" /><line x1=\"810.004\" y1=\"729.91\" x2=\"809.908\" y2=\"725.984\" stroke-linecap=\"round\" style=\"stroke:black;stroke-width:3\" /><line x1=\"809.908\" y1=\"725.984\" x2=\"809.619\" y2=\"722.068\" stroke-linecap=\"round\" style=\"stroke:black;stroke-width:3\" /><line x1=\"809.619\" y1=\"722.068\" x2=\"809.138\" y2=\"718.171\" stroke-linecap=\"round\" style=\"stroke:black;stroke-width:3\" /><line x1=\"809.138\" y1=\"718.171\" x2=\"808.467\" y2=\"714.302\" stroke-linecap=\"round\" style=\"stroke:black;stroke-width:3\" /><line x1=\"808.467\" y1=\"714.302\" x2=\"807.607\" y2=\"710.47\" stroke-linecap=\"round\" style=\"stroke:black;stroke-width:3\" /><line x1=\"807.607\" y1=\"710.47\" x2=\"806.56\" y2=\"706.685\" stroke-linecap=\"round\" style=\"stroke:black;stroke-width:3\" /><line x1=\"806.56\" y1=\"706.685\" x2=\"805.328\" y2=\"702.956\" stroke-linecap=\"round\" style=\"stroke:black;stroke-width:3\" /><line x1=\"805.328\" y1=\"702.956\" x2=\"803.915\" y2=\"699.292\" stroke-linecap=\"round\" style=\"stroke:black;stroke-width:3\" /><line x1=\"803.915\" y1=\"699.292\" x2=\"802.324\" y2=\"695.702\" stroke-linecap=\"round\" style=\"stroke:black;stroke-width:3\" /><line x1=\"802.324\" y1=\"695.702\" x2=\"800.558\" y2=\"692.194\" stroke-linecap=\"round\" style=\"stroke:black;stroke-width:3\" /><line x1=\"800.558\" y1=\"692.194\" x2=\"798.622\" y2=\"688.777\" stroke-linecap=\"round\" style=\"stroke:black;stroke-width:3\" /><line x1=\"798.622\" y1=\"688.777\" x2=\"796.521\" y2=\"685.459\" stroke-linecap=\"round\" style=\"stroke:black;stroke-width:3\" /><line x1=\"796.521\" y1=\"685.459\" x2=\"794.26\" y2=\"682.248\" stroke-linecap=\"round\" style=\"stroke:black;stroke-width:3\" /><line x1=\"794.26\" y1=\"682.248\" x2=\"791.844\" y2=\"679.152\" stroke-linecap=\"round\" style=\"stroke:black;stroke-width:3\" /><line x1=\"791.844\" y1=\"679.152\" x2=\"789.279\" y2=\"676.178\" stroke-linecap=\"round\" style=\"stroke:black;stroke-width:3\" /><line x1=\"789.279\" y1=\"676.178\" x2=\"786.571\" y2=\"673.334\" stroke-linecap=\"round\" style=\"stroke:black;stroke-width:3\" /><line x1=\"786.571\" y1=\"673.334\" x2=\"783.727\" y2=\"670.626\" stroke-linecap=\"round\" style=\"stroke:black;stroke-width:3\" /><line x1=\"783.727\" y1=\"670.626\" x2=\"780.753\" y2=\"668.061\" stroke-linecap=\"round\" style=\"stroke:black;stroke-width:3\" /><line x1=\"780.753\" y1=\"668.061\" x2=\"777.657\" y2=\"665.645\" stroke-linecap=\"round\" style=\"stroke:black;stroke-width:3\" /><line x1=\"777.657\" y1=\"665.645\" x2=\"774.446\" y2=\"663.384\" stroke-linecap=\"round\" style=\"stroke:black;stroke-width:3\" /><line x1=\"774.446\" y1=\"663.384\" x2=\"771.128\" y2=\"661.283\" stroke-linecap=\"round\" style=\"stroke:black;stroke-width:3\" /><line x1=\"771.128\" y1=\"661.283\" x2=\"767.711\" y2=\"659.347\" stroke-linecap=\"round\" style=\"stroke:black;stroke-width:3\" /><line x1=\"767.711\" y1=\"659.347\" x2=\"764.203\" y2=\"657.581\" stroke-linecap=\"round\" style=\"stroke:black;stroke-width:3\" /><line x1=\"764.203\" y1=\"657.581\" x2=\"760.613\" y2=\"655.99\" stroke-linecap=\"round\" style=\"stroke:black;stroke-width:3\" /><line x1=\"760.613\" y1=\"655.99\" x2=\"756.949\" y2=\"654.577\" stroke-linecap=\"round\" style=\"stroke:black;stroke-width:3\" /><line x1=\"756.949\" y1=\"654.577\" x2=\"753.22\" y2=\"653.345\" stroke-linecap=\"round\" style=\"stroke:black;stroke-width:3\" /><line x1=\"753.22\" y1=\"653.345\" x2=\"749.435\" y2=\"652.298\" stroke-linecap=\"round\" style=\"stroke:black;stroke-width:3\" /><line x1=\"749.435\" y1=\"652.298\" x2=\"745.603\" y2=\"651.438\" stroke-linecap=\"round\" style=\"stroke:black;stroke-width:3\" /><line x1=\"745.603\" y1=\"651.438\" x2=\"741.734\" y2=\"650.767\" stroke-linecap=\"round\" style=\"stroke:black;stroke-width:3\" /><line x1=\"741.734\" y1=\"650.767\" x2=\"737.837\" y2=\"650.286\" stroke-linecap=\"round\" style=\"stroke:black;stroke-width:3\" /><line x1=\"737.837\" y1=\"650.286\" x2=\"733.921\" y2=\"649.997\" stroke-linecap=\"round\" style=\"stroke:black;stroke-width:3\" /><line x1=\"733.921\" y1=\"649.997\" x2=\"729.995\" y2=\"649.901\" stroke-linecap=\"round\" style=\"stroke:black;stroke-width:3\" /><line x1=\"729.995\" y1=\"649.901\" x2=\"726.068\" y2=\"649.96\" stroke-linecap=\"round\" style=\"stroke:black;stroke-width:3\" /><line x1=\"726.068\" y1=\"649.96\" x2=\"722.145\" y2=\"650.138\" stroke-linecap=\"round\" style=\"stroke:black;stroke-width:3\" /><line x1=\"722.145\" y1=\"650.138\" x2=\"718.229\" y2=\"650.434\" stroke-linecap=\"round\" style=\"stroke:black;stroke-width:3\" /><line x1=\"718.229\" y1=\"650.434\" x2=\"714.324\" y2=\"650.848\" stroke-linecap=\"round\" style=\"stroke:black;stroke-width:3\" /><line x1=\"714.324\" y1=\"650.848\" x2=\"710.433\" y2=\"651.38\" stroke-linecap=\"round\" style=\"stroke:black;stroke-width:3\" /><line x1=\"710.433\" y1=\"651.38\" x2=\"706.56\" y2=\"652.029\" stroke-linecap=\"round\" style=\"stroke:black;stroke-width:3\" /><line x1=\"706.56\" y1=\"652.029\" x2=\"702.708\" y2=\"652.795\" stroke-linecap=\"round\" style=\"stroke:black;stroke-width:3\" /><line x1=\"702.708\" y1=\"652.795\" x2=\"698.881\" y2=\"653.677\" stroke-linecap=\"round\" style=\"stroke:black;stroke-width:3\" /><line x1=\"698.881\" y1=\"653.677\" x2=\"695.083\" y2=\"654.674\" stroke-linecap=\"round\" style=\"stroke:black;stroke-width:3\" /><line x1=\"695.083\" y1=\"654.674\" x2=\"691.317\" y2=\"655.786\" stroke-linecap=\"round\" style=\"stroke:black;stroke-width:3\" /><line x1=\"691.317\" y1=\"655.786\" x2=\"687.586\" y2=\"657.011\" stroke-linecap=\"round\" style=\"stroke:black;stroke-width:3\" /><line x1=\"687.586\" y1=\"657.011\" x2=\"683.894\" y2=\"658.348\" stroke-linecap=\"round\" style=\"stroke:black;stroke-width:3\" /><line x1=\"683.894\" y1=\"658.348\" x2=\"680.244\" y2=\"659.796\" stroke-linecap=\"round\" style=\"stroke:black;stroke-width:3\" /><line x1=\"680.244\" y1=\"659.796\" x2=\"676.639\" y2=\"661.353\" stroke-linecap=\"round\" style=\"stroke:black;stroke-width:3\" /><line x1=\"676.639\" y1=\"661.353\" x2=\"673.083\" y2=\"663.019\" stroke-linecap=\"round\" style=\"stroke:black;stroke-width:3\" /><line x1=\"673.083\" y1=\"663.019\" x2=\"669.579\" y2=\"664.791\" stroke-linecap=\"round\" style=\"stroke:black;stroke-width:3\" /><line x1=\"669.579\" y1=\"664.791\" x2=\"666.13\" y2=\"666.668\" stroke-linecap=\"round\" style=\"stroke:black;stroke-width:3\" /><line x1=\"666.13\" y1=\"666.668\" x2=\"662.739\" y2=\"668.649\" stroke-linecap=\"round\" style=\"stroke:black;stroke-width:3\" /><line x1=\"662.739\" y1=\"668.649\" x2=\"659.409\" y2=\"670.731\" stroke-linecap=\"round\" style=\"stroke:black;stroke-width:3\" /><line x1=\"659.409\" y1=\"670.731\" x2=\"656.144\" y2=\"672.913\" stroke-linecap=\"round\" style=\"stroke:black;stroke-width:3\" /><line x1=\"656.144\" y1=\"672.913\" x2=\"652.946\" y2=\"675.192\" stroke-linecap=\"round\" style=\"stroke:black;stroke-width:3\" /><line x1=\"652.946\" y1=\"675.192\" x2=\"649.819\" y2=\"677.567\" stroke-linecap=\"round\" style=\"stroke:black;stroke-width:3\" /><line x1=\"649.819\" y1=\"677.567\" x2=\"646.765\" y2=\"680.035\" stroke-linecap=\"round\" style=\"stroke:black;stroke-width:3\" /><line x1=\"646.765\" y1=\"680.035\" x2=\"643.787\" y2=\"682.594\" stroke-linecap=\"round\" style=\"stroke:black;stroke-width:3\" /><line x1=\"643.787\" y1=\"682.594\" x2=\"640.887\" y2=\"685.242\" stroke-linecap=\"round\" style=\"stroke:black;stroke-width:3\" /><line x1=\"640.887\" y1=\"685.242\" x2=\"638.069\" y2=\"687.977\" stroke-linecap=\"round\" style=\"stroke:black;stroke-width:3\" /><line x1=\"638.069\" y1=\"687.977\" x2=\"635.334\" y2=\"690.795\" stroke-linecap=\"round\" style=\"stroke:black;stroke-width:3\" /><line x1=\"635.334\" y1=\"690.795\" x2=\"632.686\" y2=\"693.695\" stroke-linecap=\"round\" style=\"stroke:black;stroke-width:3\" /><line x1=\"632.686\" y1=\"693.695\" x2=\"630.127\" y2=\"696.673\" stroke-linecap=\"round\" style=\"stroke:black;stroke-width:3\" /><line x1=\"630.127\" y1=\"696.673\" x2=\"627.659\" y2=\"699.727\" stroke-linecap=\"round\" style=\"stroke:black;stroke-width:3\" /><line x1=\"627.659\" y1=\"699.727\" x2=\"625.284\" y2=\"702.854\" stroke-linecap=\"round\" style=\"stroke:black;stroke-width:3\" /><line x1=\"625.284\" y1=\"702.854\" x2=\"623.005\" y2=\"706.052\" stroke-linecap=\"round\" style=\"stroke:black;stroke-width:3\" /><line x1=\"623.005\" y1=\"706.052\" x2=\"620.823\" y2=\"709.317\" stroke-linecap=\"round\" style=\"stroke:black;stroke-width:3\" /><line x1=\"620.823\" y1=\"709.317\" x2=\"618.741\" y2=\"712.647\" stroke-linecap=\"round\" style=\"stroke:black;stroke-width:3\" /><line x1=\"618.741\" y1=\"712.647\" x2=\"616.76\" y2=\"716.038\" stroke-linecap=\"round\" style=\"stroke:black;stroke-width:3\" /><line x1=\"616.76\" y1=\"716.038\" x2=\"614.883\" y2=\"719.487\" stroke-linecap=\"round\" style=\"stroke:black;stroke-width:3\" /><line x1=\"614.883\" y1=\"719.487\" x2=\"613.111\" y2=\"722.991\" stroke-linecap=\"round\" style=\"stroke:black;stroke-width:3\" /><line x1=\"613.111\" y1=\"722.991\" x2=\"611.445\" y2=\"726.547\" stroke-linecap=\"round\" style=\"stroke:black;stroke-width:3\" /><line x1=\"611.445\" y1=\"726.547\" x2=\"609.888\" y2=\"730.152\" stroke-linecap=\"round\" style=\"stroke:black;stroke-width:3\" /><line x1=\"609.888\" y1=\"730.152\" x2=\"608.44\" y2=\"733.802\" stroke-linecap=\"round\" style=\"stroke:black;stroke-width:3\" /><line x1=\"608.44\" y1=\"733.802\" x2=\"607.103\" y2=\"737.494\" stroke-linecap=\"round\" style=\"stroke:black;stroke-width:3\" /><line x1=\"607.103\" y1=\"737.494\" x2=\"605.878\" y2=\"741.225\" stroke-linecap=\"round\" style=\"stroke:black;stroke-width:3\" /><line x1=\"605.878\" y1=\"741.225\" x2=\"604.766\" y2=\"744.991\" stroke-linecap=\"round\" style=\"stroke:black;stroke-width:3\" /><line x1=\"604.766\" y1=\"744.991\" x2=\"603.769\" y2=\"748.789\" stroke-linecap=\"round\" style=\"stroke:black;stroke-width:3\" /><line x1=\"603.769\" y1=\"748.789\" x2=\"602.887\" y2=\"752.616\" stroke-linecap=\"round\" style=\"stroke:black;stroke-width:3\" /><line x1=\"602.887\" y1=\"752.616\" x2=\"602.121\" y2=\"756.468\" stroke-linecap=\"round\" style=\"stroke:black;stroke-width:3\" /><line x1=\"602.121\" y1=\"756.468\" x2=\"601.472\" y2=\"760.341\" stroke-linecap=\"round\" style=\"stroke:black;stroke-width:3\" /><line x1=\"601.472\" y1=\"760.341\" x2=\"600.94\" y2=\"764.232\" stroke-linecap=\"round\" style=\"stroke:black;stroke-width:3\" /><line x1=\"600.94\" y1=\"764.232\" x2=\"600.526\" y2=\"768.137\" stroke-linecap=\"round\" style=\"stroke:black;stroke-width:3\" /><line x1=\"600.526\" y1=\"768.137\" x2=\"600.23\" y2=\"772.053\" stroke-linecap=\"round\" style=\"stroke:black;stroke-width:3\" /><line x1=\"600.23\" y1=\"772.053\" x2=\"600.052\" y2=\"775.976\" stroke-linecap=\"round\" style=\"stroke:black;stroke-width:3\" /><line x1=\"600.052\" y1=\"775.976\" x2=\"599.993\" y2=\"779.903\" stroke-linecap=\"round\" style=\"stroke:black;stroke-width:3\" /><line x1=\"599.993\" y1=\"779.903\" x2=\"600.031\" y2=\"783.877\" stroke-linecap=\"round\" style=\"stroke:black;stroke-width:3\" /><line x1=\"600.031\" y1=\"783.877\" x2=\"600.144\" y2=\"787.85\" stroke-linecap=\"round\" style=\"stroke:black;stroke-width:3\" /><line x1=\"600.144\" y1=\"787.85\" x2=\"600.332\" y2=\"791.82\" stroke-linecap=\"round\" style=\"stroke:black;stroke-width:3\" /><line x1=\"600.332\" y1=\"791.82\" x2=\"600.595\" y2=\"795.786\" stroke-linecap=\"round\" style=\"stroke:black;stroke-width:3\" /><line x1=\"600.595\" y1=\"795.786\" x2=\"600.933\" y2=\"799.746\" stroke-linecap=\"round\" style=\"stroke:black;stroke-width:3\" /><line x1=\"600.933\" y1=\"799.746\" x2=\"601.346\" y2=\"803.699\" stroke-linecap=\"round\" style=\"stroke:black;stroke-width:3\" /><line x1=\"601.346\" y1=\"803.699\" x2=\"601.834\" y2=\"807.643\" stroke-linecap=\"round\" style=\"stroke:black;stroke-width:3\" /><line x1=\"601.834\" y1=\"807.643\" x2=\"602.396\" y2=\"811.577\" stroke-linecap=\"round\" style=\"stroke:black;stroke-width:3\" /><line x1=\"602.396\" y1=\"811.577\" x2=\"603.033\" y2=\"815.5\" stroke-linecap=\"round\" style=\"stroke:black;stroke-width:3\" /><line x1=\"603.033\" y1=\"815.5\" x2=\"603.744\" y2=\"819.41\" stroke-linecap=\"round\" style=\"stroke:black;stroke-width:3\" /><line x1=\"603.744\" y1=\"819.41\" x2=\"604.529\" y2=\"823.306\" stroke-linecap=\"round\" style=\"stroke:black;stroke-width:3\" /><line x1=\"604.529\" y1=\"823.306\" x2=\"605.387\" y2=\"827.187\" stroke-linecap=\"round\" style=\"stroke:black;stroke-width:3\" /><line x1=\"605.387\" y1=\"827.187\" x2=\"606.318\" y2=\"831.051\" stroke-linecap=\"round\" style=\"stroke:black;stroke-width:3\" /><line x1=\"606.318\" y1=\"831.051\" x2=\"607.322\" y2=\"834.896\" stroke-linecap=\"round\" style=\"stroke:black;stroke-width:3\" /><line x1=\"607.322\" y1=\"834.896\" x2=\"608.399\" y2=\"838.722\" stroke-linecap=\"round\" style=\"stroke:black;stroke-width:3\" /><line x1=\"608.399\" y1=\"838.722\" x2=\"609.548\" y2=\"842.527\" stroke-linecap=\"round\" style=\"stroke:black;stroke-width:3\" /><line x1=\"609.548\" y1=\"842.527\" x2=\"610.769\" y2=\"846.309\" stroke-linecap=\"round\" style=\"stroke:black;stroke-width:3\" /><line x1=\"610.769\" y1=\"846.309\" x2=\"612.061\" y2=\"850.067\" stroke-linecap=\"round\" style=\"stroke:black;stroke-width:3\" /><line x1=\"612.061\" y1=\"850.067\" x2=\"613.424\" y2=\"853.8\" stroke-linecap=\"round\" style=\"stroke:black;stroke-width:3\" /><line x1=\"613.424\" y1=\"853.8\" x2=\"614.858\" y2=\"857.507\" stroke-linecap=\"round\" style=\"stroke:black;stroke-width:3\" /><line x1=\"614.858\" y1=\"857.507\" x2=\"616.362\" y2=\"861.186\" stroke-linecap=\"round\" style=\"stroke:black;stroke-width:3\" /><line x1=\"616.362\" y1=\"861.186\" x2=\"617.935\" y2=\"864.836\" stroke-linecap=\"round\" style=\"stroke:black;stroke-width:3\" /><line x1=\"617.935\" y1=\"864.836\" x2=\"619.577\" y2=\"868.455\" stroke-linecap=\"round\" style=\"stroke:black;stroke-width:3\" /><line x1=\"619.577\" y1=\"868.455\" x2=\"621.287\" y2=\"872.043\" stroke-linecap=\"round\" style=\"stroke:black;stroke-width:3\" /><line x1=\"621.287\" y1=\"872.043\" x2=\"623.064\" y2=\"875.598\" stroke-linecap=\"round\" style=\"stroke:black;stroke-width:3\" /><line x1=\"623.064\" y1=\"875.598\" x2=\"624.908\" y2=\"879.118\" stroke-linecap=\"round\" style=\"stroke:black;stroke-width:3\" /><line x1=\"624.908\" y1=\"879.118\" x2=\"626.819\" y2=\"882.603\" stroke-linecap=\"round\" style=\"stroke:black;stroke-width:3\" /><line x1=\"626.819\" y1=\"882.603\" x2=\"628.795\" y2=\"886.051\" stroke-linecap=\"round\" style=\"stroke:black;stroke-width:3\" /><line x1=\"628.795\" y1=\"886.051\" x2=\"630.836\" y2=\"889.461\" stroke-linecap=\"round\" style=\"stroke:black;stroke-width:3\" /><line x1=\"630.836\" y1=\"889.461\" x2=\"632.941\" y2=\"892.832\" stroke-linecap=\"round\" style=\"stroke:black;stroke-width:3\" /><line x1=\"632.941\" y1=\"892.832\" x2=\"635.11\" y2=\"896.162\" stroke-linecap=\"round\" style=\"stroke:black;stroke-width:3\" /><line x1=\"635.11\" y1=\"896.162\" x2=\"637.341\" y2=\"899.451\" stroke-linecap=\"round\" style=\"stroke:black;stroke-width:3\" /><line x1=\"637.341\" y1=\"899.451\" x2=\"639.634\" y2=\"902.697\" stroke-linecap=\"round\" style=\"stroke:black;stroke-width:3\" /><line x1=\"639.634\" y1=\"902.697\" x2=\"641.988\" y2=\"905.899\" stroke-linecap=\"round\" style=\"stroke:black;stroke-width:3\" /><line x1=\"641.988\" y1=\"905.899\" x2=\"644.402\" y2=\"909.056\" stroke-linecap=\"round\" style=\"stroke:black;stroke-width:3\" /><line x1=\"644.402\" y1=\"909.056\" x2=\"646.876\" y2=\"912.167\" stroke-linecap=\"round\" style=\"stroke:black;stroke-width:3\" /><line x1=\"646.876\" y1=\"912.167\" x2=\"649.408\" y2=\"915.23\" stroke-linecap=\"round\" style=\"stroke:black;stroke-width:3\" /><line x1=\"649.408\" y1=\"915.23\" x2=\"651.998\" y2=\"918.245\" stroke-linecap=\"round\" style=\"stroke:black;stroke-width:3\" /><line x1=\"651.998\" y1=\"918.245\" x2=\"654.644\" y2=\"921.21\" stroke-linecap=\"round\" style=\"stroke:black;stroke-width:3\" /><line x1=\"654.644\" y1=\"921.21\" x2=\"657.346\" y2=\"924.125\" stroke-linecap=\"round\" style=\"stroke:black;stroke-width:3\" /><line x1=\"657.346\" y1=\"924.125\" x2=\"660.103\" y2=\"926.988\" stroke-linecap=\"round\" style=\"stroke:black;stroke-width:3\" /><line x1=\"660.103\" y1=\"926.988\" x2=\"662.913\" y2=\"929.798\" stroke-linecap=\"round\" style=\"stroke:black;stroke-width:3\" /><line x1=\"662.913\" y1=\"929.798\" x2=\"665.776\" y2=\"932.555\" stroke-linecap=\"round\" style=\"stroke:black;stroke-width:3\" /><line x1=\"665.776\" y1=\"932.555\" x2=\"668.691\" y2=\"935.257\" stroke-linecap=\"round\" style=\"stroke:black;stroke-width:3\" /><line x1=\"668.691\" y1=\"935.257\" x2=\"671.656\" y2=\"937.903\" stroke-linecap=\"round\" style=\"stroke:black;stroke-width:3\" /><line x1=\"671.656\" y1=\"937.903\" x2=\"674.671\" y2=\"940.493\" stroke-linecap=\"round\" style=\"stroke:black;stroke-width:3\" /><line x1=\"674.671\" y1=\"940.493\" x2=\"677.734\" y2=\"943.025\" stroke-linecap=\"round\" style=\"stroke:black;stroke-width:3\" /><line x1=\"677.734\" y1=\"943.025\" x2=\"680.845\" y2=\"945.499\" stroke-linecap=\"round\" style=\"stroke:black;stroke-width:3\" /><line x1=\"680.845\" y1=\"945.499\" x2=\"684.002\" y2=\"947.913\" stroke-linecap=\"round\" style=\"stroke:black;stroke-width:3\" /><line x1=\"684.002\" y1=\"947.913\" x2=\"687.204\" y2=\"950.267\" stroke-linecap=\"round\" style=\"stroke:black;stroke-width:3\" /><line x1=\"687.204\" y1=\"950.267\" x2=\"690.45\" y2=\"952.56\" stroke-linecap=\"round\" style=\"stroke:black;stroke-width:3\" /><line x1=\"690.45\" y1=\"952.56\" x2=\"693.739\" y2=\"954.791\" stroke-linecap=\"round\" style=\"stroke:black;stroke-width:3\" /><line x1=\"693.739\" y1=\"954.791\" x2=\"697.069\" y2=\"956.96\" stroke-linecap=\"round\" style=\"stroke:black;stroke-width:3\" /><line x1=\"697.069\" y1=\"956.96\" x2=\"700.44\" y2=\"959.065\" stroke-linecap=\"round\" style=\"stroke:black;stroke-width:3\" /><line x1=\"700.44\" y1=\"959.065\" x2=\"703.85\" y2=\"961.106\" stroke-linecap=\"round\" style=\"stroke:black;stroke-width:3\" /><line x1=\"703.85\" y1=\"961.106\" x2=\"707.298\" y2=\"963.082\" stroke-linecap=\"round\" style=\"stroke:black;stroke-width:3\" /><line x1=\"707.298\" y1=\"963.082\" x2=\"710.783\" y2=\"964.993\" stroke-linecap=\"round\" style=\"stroke:black;stroke-width:3\" /><line x1=\"710.783\" y1=\"964.993\" x2=\"714.303\" y2=\"966.837\" stroke-linecap=\"round\" style=\"stroke:black;stroke-width:3\" /><line x1=\"714.303\" y1=\"966.837\" x2=\"717.858\" y2=\"968.614\" stroke-linecap=\"round\" style=\"stroke:black;stroke-width:3\" /><line x1=\"717.858\" y1=\"968.614\" x2=\"721.446\" y2=\"970.324\" stroke-linecap=\"round\" style=\"stroke:black;stroke-width:3\" /><line x1=\"721.446\" y1=\"970.324\" x2=\"725.065\" y2=\"971.966\" stroke-linecap=\"round\" style=\"stroke:black;stroke-width:3\" /><line x1=\"725.065\" y1=\"971.966\" x2=\"728.715\" y2=\"973.539\" stroke-linecap=\"round\" style=\"stroke:black;stroke-width:3\" /><line x1=\"728.715\" y1=\"973.539\" x2=\"732.394\" y2=\"975.043\" stroke-linecap=\"round\" style=\"stroke:black;stroke-width:3\" /><line x1=\"732.394\" y1=\"975.043\" x2=\"736.101\" y2=\"976.477\" stroke-linecap=\"round\" style=\"stroke:black;stroke-width:3\" /><line x1=\"736.101\" y1=\"976.477\" x2=\"739.834\" y2=\"977.84\" stroke-linecap=\"round\" style=\"stroke:black;stroke-width:3\" /><line x1=\"739.834\" y1=\"977.84\" x2=\"743.592\" y2=\"979.132\" stroke-linecap=\"round\" style=\"stroke:black;stroke-width:3\" /><line x1=\"743.592\" y1=\"979.132\" x2=\"747.374\" y2=\"980.353\" stroke-linecap=\"round\" style=\"stroke:black;stroke-width:3\" /><line x1=\"747.374\" y1=\"980.353\" x2=\"751.179\" y2=\"981.502\" stroke-linecap=\"round\" style=\"stroke:black;stroke-width:3\" /><line x1=\"751.179\" y1=\"981.502\" x2=\"755.005\" y2=\"982.579\" stroke-linecap=\"round\" style=\"stroke:black;stroke-width:3\" /><line x1=\"755.005\" y1=\"982.579\" x2=\"758.85\" y2=\"983.583\" stroke-linecap=\"round\" style=\"stroke:black;stroke-width:3\" /><line x1=\"758.85\" y1=\"983.583\" x2=\"762.714\" y2=\"984.514\" stroke-linecap=\"round\" style=\"stroke:black;stroke-width:3\" /><line x1=\"762.714\" y1=\"984.514\" x2=\"766.595\" y2=\"985.372\" stroke-linecap=\"round\" style=\"stroke:black;stroke-width:3\" /><line x1=\"766.595\" y1=\"985.372\" x2=\"770.491\" y2=\"986.157\" stroke-linecap=\"round\" style=\"stroke:black;stroke-width:3\" /><line x1=\"770.491\" y1=\"986.157\" x2=\"774.401\" y2=\"986.868\" stroke-linecap=\"round\" style=\"stroke:black;stroke-width:3\" /><line x1=\"774.401\" y1=\"986.868\" x2=\"778.324\" y2=\"987.505\" stroke-linecap=\"round\" style=\"stroke:black;stroke-width:3\" /><line x1=\"778.324\" y1=\"987.505\" x2=\"782.258\" y2=\"988.067\" stroke-linecap=\"round\" style=\"stroke:black;stroke-width:3\" /><line x1=\"782.258\" y1=\"988.067\" x2=\"786.202\" y2=\"988.555\" stroke-linecap=\"round\" style=\"stroke:black;stroke-width:3\" /><line x1=\"786.202\" y1=\"988.555\" x2=\"790.155\" y2=\"988.968\" stroke-linecap=\"round\" style=\"stroke:black;stroke-width:3\" /><line x1=\"790.155\" y1=\"988.968\" x2=\"794.115\" y2=\"989.306\" stroke-linecap=\"round\" style=\"stroke:black;stroke-width:3\" /><line x1=\"794.115\" y1=\"989.306\" x2=\"798.081\" y2=\"989.569\" stroke-linecap=\"round\" style=\"stroke:black;stroke-width:3\" /><line x1=\"798.081\" y1=\"989.569\" x2=\"802.051\" y2=\"989.757\" stroke-linecap=\"round\" style=\"stroke:black;stroke-width:3\" /><line x1=\"802.051\" y1=\"989.757\" x2=\"806.024\" y2=\"989.87\" stroke-linecap=\"round\" style=\"stroke:black;stroke-width:3\" /><line x1=\"806.024\" y1=\"989.87\" x2=\"809.998\" y2=\"989.908\" stroke-linecap=\"round\" style=\"stroke:black;stroke-width:3\" /><line x1=\"809.998\" y1=\"989.908\" x2=\"813.984\" y2=\"989.885\" stroke-linecap=\"round\" style=\"stroke:black;stroke-width:3\" /><line x1=\"813.984\" y1=\"989.885\" x2=\"817.969\" y2=\"989.815\" stroke-linecap=\"round\" style=\"stroke:black;stroke-width:3\" /><line x1=\"817.969\" y1=\"989.815\" x2=\"821.953\" y2=\"989.698\" stroke-linecap=\"round\" style=\"stroke:black;stroke-width:3\" /><line x1=\"821.953\" y1=\"989.698\" x2=\"825.935\" y2=\"989.535\" stroke-linecap=\"round\" style=\"stroke:black;stroke-width:3\" /><line x1=\"825.935\" y1=\"989.535\" x2=\"829.915\" y2=\"989.325\" stroke-linecap=\"round\" style=\"stroke:black;stroke-width:3\" /><line x1=\"829.915\" y1=\"989.325\" x2=\"833.892\" y2=\"989.068\" stroke-linecap=\"round\" style=\"stroke:black;stroke-width:3\" /><line x1=\"833.892\" y1=\"989.068\" x2=\"837.866\" y2=\"988.765\" stroke-linecap=\"round\" style=\"stroke:black;stroke-width:3\" /><line x1=\"837.866\" y1=\"988.765\" x2=\"841.836\" y2=\"988.415\" stroke-linecap=\"round\" style=\"stroke:black;stroke-width:3\" /><line x1=\"841.836\" y1=\"988.415\" x2=\"845.802\" y2=\"988.019\" stroke-linecap=\"round\" style=\"stroke:black;stroke-width:3\" /><line x1=\"845.802\" y1=\"988.019\" x2=\"849.763\" y2=\"987.576\" stroke-linecap=\"round\" style=\"stroke:black;stroke-width:3\" /><line x1=\"849.763\" y1=\"987.576\" x2=\"853.718\" y2=\"987.087\" stroke-linecap=\"round\" style=\"stroke:black;stroke-width:3\" /><line x1=\"853.718\" y1=\"987.087\" x2=\"857.667\" y2=\"986.551\" stroke-linecap=\"round\" style=\"stroke:black;stroke-width:3\" /><line x1=\"857.667\" y1=\"986.551\" x2=\"861.61\" y2=\"985.969\" stroke-linecap=\"round\" style=\"stroke:black;stroke-width:3\" /><line x1=\"861.61\" y1=\"985.969\" x2=\"865.546\" y2=\"985.341\" stroke-linecap=\"round\" style=\"stroke:black;stroke-width:3\" /><line x1=\"865.546\" y1=\"985.341\" x2=\"869.474\" y2=\"984.667\" stroke-linecap=\"round\" style=\"stroke:black;stroke-width:3\" /><line x1=\"869.474\" y1=\"984.667\" x2=\"873.394\" y2=\"983.947\" stroke-linecap=\"round\" style=\"stroke:black;stroke-width:3\" /><line x1=\"873.394\" y1=\"983.947\" x2=\"877.305\" y2=\"983.181\" stroke-linecap=\"round\" style=\"stroke:black;stroke-width:3\" /><line x1=\"877.305\" y1=\"983.181\" x2=\"881.207\" y2=\"982.369\" stroke-linecap=\"round\" style=\"stroke:black;stroke-width:3\" /><line x1=\"881.207\" y1=\"982.369\" x2=\"885.099\" y2=\"981.511\" stroke-linecap=\"round\" style=\"stroke:black;stroke-width:3\" /><line x1=\"885.099\" y1=\"981.511\" x2=\"888.981\" y2=\"980.608\" stroke-linecap=\"round\" style=\"stroke:black;stroke-width:3\" /><line x1=\"888.981\" y1=\"980.608\" x2=\"892.852\" y2=\"979.659\" stroke-linecap=\"round\" style=\"stroke:black;stroke-width:3\" /><line x1=\"892.852\" y1=\"979.659\" x2=\"896.712\" y2=\"978.665\" stroke-linecap=\"round\" style=\"stroke:black;stroke-width:3\" /><line x1=\"896.712\" y1=\"978.665\" x2=\"900.56\" y2=\"977.626\" stroke-linecap=\"round\" style=\"stroke:black;stroke-width:3\" /><line x1=\"900.56\" y1=\"977.626\" x2=\"904.395\" y2=\"976.542\" stroke-linecap=\"round\" style=\"stroke:black;stroke-width:3\" /><line x1=\"904.395\" y1=\"976.542\" x2=\"908.217\" y2=\"975.413\" stroke-linecap=\"round\" style=\"stroke:black;stroke-width:3\" /><line x1=\"908.217\" y1=\"975.413\" x2=\"912.026\" y2=\"974.239\" stroke-linecap=\"round\" style=\"stroke:black;stroke-width:3\" /><line x1=\"912.026\" y1=\"974.239\" x2=\"915.821\" y2=\"973.021\" stroke-linecap=\"round\" style=\"stroke:black;stroke-width:3\" /><line x1=\"915.821\" y1=\"973.021\" x2=\"919.601\" y2=\"971.758\" stroke-linecap=\"round\" style=\"stroke:black;stroke-width:3\" /><line x1=\"919.601\" y1=\"971.758\" x2=\"923.366\" y2=\"970.451\" stroke-linecap=\"round\" style=\"stroke:black;stroke-width:3\" /><line x1=\"923.366\" y1=\"970.451\" x2=\"927.116\" y2=\"969.1\" stroke-linecap=\"round\" style=\"stroke:black;stroke-width:3\" /><line x1=\"927.116\" y1=\"969.1\" x2=\"930.85\" y2=\"967.705\" stroke-linecap=\"round\" style=\"stroke:black;stroke-width:3\" /><line x1=\"930.85\" y1=\"967.705\" x2=\"934.567\" y2=\"966.267\" stroke-linecap=\"round\" style=\"stroke:black;stroke-width:3\" /><line x1=\"934.567\" y1=\"966.267\" x2=\"938.267\" y2=\"964.785\" stroke-linecap=\"round\" style=\"stroke:black;stroke-width:3\" /><line x1=\"938.267\" y1=\"964.785\" x2=\"941.949\" y2=\"963.26\" stroke-linecap=\"round\" style=\"stroke:black;stroke-width:3\" /><line x1=\"941.949\" y1=\"963.26\" x2=\"945.613\" y2=\"961.692\" stroke-linecap=\"round\" style=\"stroke:black;stroke-width:3\" /><line x1=\"945.613\" y1=\"961.692\" x2=\"949.258\" y2=\"960.081\" stroke-linecap=\"round\" style=\"stroke:black;stroke-width:3\" /><line x1=\"949.258\" y1=\"960.081\" x2=\"952.884\" y2=\"958.427\" stroke-linecap=\"round\" style=\"stroke:black;stroke-width:3\" /><line x1=\"952.884\" y1=\"958.427\" x2=\"956.491\" y2=\"956.731\" stroke-linecap=\"round\" style=\"stroke:black;stroke-width:3\" /><line x1=\"956.491\" y1=\"956.731\" x2=\"960.078\" y2=\"954.993\" stroke-linecap=\"round\" style=\"stroke:black;stroke-width:3\" /><line x1=\"960.078\" y1=\"954.993\" x2=\"963.644\" y2=\"953.213\" stroke-linecap=\"round\" style=\"stroke:black;stroke-width:3\" /><line x1=\"963.644\" y1=\"953.213\" x2=\"967.189\" y2=\"951.391\" stroke-linecap=\"round\" style=\"stroke:black;stroke-width:3\" /><line x1=\"967.189\" y1=\"951.391\" x2=\"970.712\" y2=\"949.528\" stroke-linecap=\"round\" style=\"stroke:black;stroke-width:3\" /><line x1=\"970.712\" y1=\"949.528\" x2=\"974.213\" y2=\"947.623\" stroke-linecap=\"round\" style=\"stroke:black;stroke-width:3\" /><line x1=\"974.213\" y1=\"947.623\" x2=\"977.692\" y2=\"945.678\" stroke-linecap=\"round\" style=\"stroke:black;stroke-width:3\" /><line x1=\"977.692\" y1=\"945.678\" x2=\"981.148\" y2=\"943.692\" stroke-linecap=\"round\" style=\"stroke:black;stroke-width:3\" /><line x1=\"981.148\" y1=\"943.692\" x2=\"984.58\" y2=\"941.666\" stroke-linecap=\"round\" style=\"stroke:black;stroke-width:3\" /><line x1=\"984.58\" y1=\"941.666\" x2=\"987.988\" y2=\"939.599\" stroke-linecap=\"round\" style=\"stroke:black;stroke-width:3\" /><line x1=\"987.988\" y1=\"939.599\" x2=\"991.372\" y2=\"937.493\" stroke-linecap=\"round\" style=\"stroke:black;stroke-width:3\" /><line x1=\"991.372\" y1=\"937.493\" x2=\"994.731\" y2=\"935.347\" stroke-linecap=\"round\" style=\"stroke:black;stroke-width:3\" /><line x1=\"994.731\" y1=\"935.347\" x2=\"998.064\" y2=\"933.162\" stroke-linecap=\"round\" style=\"stroke:black;stroke-width:3\" /><line x1=\"998.064\" y1=\"933.162\" x2=\"1001.371\" y2=\"930.938\" stroke-linecap=\"round\" style=\"stroke:black;stroke-width:3\" /><line x1=\"1001.371\" y1=\"930.938\" x2=\"1004.652\" y2=\"928.675\" stroke-linecap=\"round\" style=\"stroke:black;stroke-width:3\" /><line x1=\"1004.652\" y1=\"928.675\" x2=\"1007.906\" y2=\"926.374\" stroke-linecap=\"round\" style=\"stroke:black;stroke-width:3\" /><line x1=\"1007.906\" y1=\"926.374\" x2=\"1011.133\" y2=\"924.035\" stroke-linecap=\"round\" style=\"stroke:black;stroke-width:3\" /><line x1=\"1011.133\" y1=\"924.035\" x2=\"1014.333\" y2=\"921.658\" stroke-linecap=\"round\" style=\"stroke:black;stroke-width:3\" /><line x1=\"1014.333\" y1=\"921.658\" x2=\"1017.504\" y2=\"919.244\" stroke-linecap=\"round\" style=\"stroke:black;stroke-width:3\" /><line x1=\"1017.504\" y1=\"919.244\" x2=\"1020.647\" y2=\"916.793\" stroke-linecap=\"round\" style=\"stroke:black;stroke-width:3\" /><line x1=\"1020.647\" y1=\"916.793\" x2=\"1023.761\" y2=\"914.305\" stroke-linecap=\"round\" style=\"stroke:black;stroke-width:3\" /><line x1=\"1023.761\" y1=\"914.305\" x2=\"1026.846\" y2=\"911.781\" stroke-linecap=\"round\" style=\"stroke:black;stroke-width:3\" /><line x1=\"1026.846\" y1=\"911.781\" x2=\"1029.901\" y2=\"909.221\" stroke-linecap=\"round\" style=\"stroke:black;stroke-width:3\" /><line x1=\"1029.901\" y1=\"909.221\" x2=\"1032.926\" y2=\"906.625\" stroke-linecap=\"round\" style=\"stroke:black;stroke-width:3\" /><line x1=\"1032.926\" y1=\"906.625\" x2=\"1035.92\" y2=\"903.994\" stroke-linecap=\"round\" style=\"stroke:black;stroke-width:3\" /><line x1=\"1035.92\" y1=\"903.994\" x2=\"1038.883\" y2=\"901.328\" stroke-linecap=\"round\" style=\"stroke:black;stroke-width:3\" /><line x1=\"1038.883\" y1=\"901.328\" x2=\"1041.814\" y2=\"898.628\" stroke-linecap=\"round\" style=\"stroke:black;stroke-width:3\" /><line x1=\"1041.814\" y1=\"898.628\" x2=\"1044.714\" y2=\"895.894\" stroke-linecap=\"round\" style=\"stroke:black;stroke-width:3\" /><line x1=\"1044.714\" y1=\"895.894\" x2=\"1047.581\" y2=\"893.126\" stroke-linecap=\"round\" style=\"stroke:black;stroke-width:3\" /><line x1=\"1047.581\" y1=\"893.126\" x2=\"1050.416\" y2=\"890.324\" stroke-linecap=\"round\" style=\"stroke:black;stroke-width:3\" /><line x1=\"1050.416\" y1=\"890.324\" x2=\"1053.218\" y2=\"887.489\" stroke-linecap=\"round\" style=\"stroke:black;stroke-width:3\" /><line x1=\"1053.218\" y1=\"887.489\" x2=\"1055.986\" y2=\"884.622\" stroke-linecap=\"round\" style=\"stroke:black;stroke-width:3\" /><line x1=\"1055.986\" y1=\"884.622\" x2=\"1058.72\" y2=\"881.722\" stroke-linecap=\"round\" style=\"stroke:black;stroke-width:3\" /><line x1=\"1058.72\" y1=\"881.722\" x2=\"1061.42\" y2=\"878.791\" stroke-linecap=\"round\" style=\"stroke:black;stroke-width:3\" /><line x1=\"1061.42\" y1=\"878.791\" x2=\"1064.086\" y2=\"875.828\" stroke-linecap=\"round\" style=\"stroke:black;stroke-width:3\" /><line x1=\"1064.086\" y1=\"875.828\" x2=\"1066.717\" y2=\"872.834\" stroke-linecap=\"round\" style=\"stroke:black;stroke-width:3\" /><line x1=\"1066.717\" y1=\"872.834\" x2=\"1069.313\" y2=\"869.809\" stroke-linecap=\"round\" style=\"stroke:black;stroke-width:3\" /><line x1=\"1069.313\" y1=\"869.809\" x2=\"1071.873\" y2=\"866.754\" stroke-linecap=\"round\" style=\"stroke:black;stroke-width:3\" /><line x1=\"1071.873\" y1=\"866.754\" x2=\"1074.397\" y2=\"863.669\" stroke-linecap=\"round\" style=\"stroke:black;stroke-width:3\" /><line x1=\"1074.397\" y1=\"863.669\" x2=\"1076.885\" y2=\"860.555\" stroke-linecap=\"round\" style=\"stroke:black;stroke-width:3\" /><line x1=\"1076.885\" y1=\"860.555\" x2=\"1079.336\" y2=\"857.412\" stroke-linecap=\"round\" style=\"stroke:black;stroke-width:3\" /><line x1=\"1079.336\" y1=\"857.412\" x2=\"1081.75\" y2=\"854.241\" stroke-linecap=\"round\" style=\"stroke:black;stroke-width:3\" /><line x1=\"1081.75\" y1=\"854.241\" x2=\"1084.127\" y2=\"851.041\" stroke-linecap=\"round\" style=\"stroke:black;stroke-width:3\" /><line x1=\"1084.127\" y1=\"851.041\" x2=\"1086.466\" y2=\"847.814\" stroke-linecap=\"round\" style=\"stroke:black;stroke-width:3\" /><line x1=\"1086.466\" y1=\"847.814\" x2=\"1088.767\" y2=\"844.56\" stroke-linecap=\"round\" style=\"stroke:black;stroke-width:3\" /><line x1=\"1088.767\" y1=\"844.56\" x2=\"1091.03\" y2=\"841.279\" stroke-linecap=\"round\" style=\"stroke:black;stroke-width:3\" /><line x1=\"1091.03\" y1=\"841.279\" x2=\"1093.254\" y2=\"837.972\" stroke-linecap=\"round\" style=\"stroke:black;stroke-width:3\" /><line x1=\"1093.254\" y1=\"837.972\" x2=\"1095.439\" y2=\"834.639\" stroke-linecap=\"round\" style=\"stroke:black;stroke-width:3\" /><line x1=\"1095.439\" y1=\"834.639\" x2=\"1097.585\" y2=\"831.28\" stroke-linecap=\"round\" style=\"stroke:black;stroke-width:3\" /><line x1=\"1097.585\" y1=\"831.28\" x2=\"1099.691\" y2=\"827.896\" stroke-linecap=\"round\" style=\"stroke:black;stroke-width:3\" /><line x1=\"1099.691\" y1=\"827.896\" x2=\"1101.758\" y2=\"824.488\" stroke-linecap=\"round\" style=\"stroke:black;stroke-width:3\" /><line x1=\"1101.758\" y1=\"824.488\" x2=\"1103.784\" y2=\"821.056\" stroke-linecap=\"round\" style=\"stroke:black;stroke-width:3\" /><line x1=\"1103.784\" y1=\"821.056\" x2=\"1105.77\" y2=\"817.6\" stroke-linecap=\"round\" style=\"stroke:black;stroke-width:3\" /><line x1=\"1105.77\" y1=\"817.6\" x2=\"1107.715\" y2=\"814.121\" stroke-linecap=\"round\" style=\"stroke:black;stroke-width:3\" /><line x1=\"1107.715\" y1=\"814.121\" x2=\"1109.62\" y2=\"810.62\" stroke-linecap=\"round\" style=\"stroke:black;stroke-width:3\" /><line x1=\"1109.62\" y1=\"810.62\" x2=\"1111.483\" y2=\"807.097\" stroke-linecap=\"round\" style=\"stroke:black;stroke-width:3\" /><line x1=\"1111.483\" y1=\"807.097\" x2=\"1113.305\" y2=\"803.552\" stroke-linecap=\"round\" style=\"stroke:black;stroke-width:3\" /><line x1=\"1113.305\" y1=\"803.552\" x2=\"1115.085\" y2=\"799.986\" stroke-linecap=\"round\" style=\"stroke:black;stroke-width:3\" /><line x1=\"1115.085\" y1=\"799.986\" x2=\"1116.823\" y2=\"796.399\" stroke-linecap=\"round\" style=\"stroke:black;stroke-width:3\" /><line x1=\"1116.823\" y1=\"796.399\" x2=\"1118.519\" y2=\"792.792\" stroke-linecap=\"round\" style=\"stroke:black;stroke-width:3\" /><line x1=\"1118.519\" y1=\"792.792\" x2=\"1120.173\" y2=\"789.166\" stroke-linecap=\"round\" style=\"stroke:black;stroke-width:3\" /><line x1=\"1120.173\" y1=\"789.166\" x2=\"1121.784\" y2=\"785.521\" stroke-linecap=\"round\" style=\"stroke:black;stroke-width:3\" /><line x1=\"1121.784\" y1=\"785.521\" x2=\"1123.352\" y2=\"781.857\" stroke-linecap=\"round\" style=\"stroke:black;stroke-width:3\" /><line x1=\"1123.352\" y1=\"781.857\" x2=\"1124.877\" y2=\"778.175\" stroke-linecap=\"round\" style=\"stroke:black;stroke-width:3\" /><line x1=\"1124.877\" y1=\"778.175\" x2=\"1126.359\" y2=\"774.475\" stroke-linecap=\"round\" style=\"stroke:black;stroke-width:3\" /><line x1=\"1126.359\" y1=\"774.475\" x2=\"1127.797\" y2=\"770.758\" stroke-linecap=\"round\" style=\"stroke:black;stroke-width:3\" /><line x1=\"1127.797\" y1=\"770.758\" x2=\"1129.192\" y2=\"767.024\" stroke-linecap=\"round\" style=\"stroke:black;stroke-width:3\" /><line x1=\"1129.192\" y1=\"767.024\" x2=\"1130.543\" y2=\"763.274\" stroke-linecap=\"round\" style=\"stroke:black;stroke-width:3\" /><line x1=\"1130.543\" y1=\"763.274\" x2=\"1131.85\" y2=\"759.509\" stroke-linecap=\"round\" style=\"stroke:black;stroke-width:3\" /><line x1=\"1131.85\" y1=\"759.509\" x2=\"1133.113\" y2=\"755.729\" stroke-linecap=\"round\" style=\"stroke:black;stroke-width:3\" /><line x1=\"1133.113\" y1=\"755.729\" x2=\"1134.331\" y2=\"751.934\" stroke-linecap=\"round\" style=\"stroke:black;stroke-width:3\" /><line x1=\"1134.331\" y1=\"751.934\" x2=\"1135.505\" y2=\"748.125\" stroke-linecap=\"round\" style=\"stroke:black;stroke-width:3\" /><line x1=\"1135.505\" y1=\"748.125\" x2=\"1136.634\" y2=\"744.303\" stroke-linecap=\"round\" style=\"stroke:black;stroke-width:3\" /><line x1=\"1136.634\" y1=\"744.303\" x2=\"1137.718\" y2=\"740.468\" stroke-linecap=\"round\" style=\"stroke:black;stroke-width:3\" /><line x1=\"1137.718\" y1=\"740.468\" x2=\"1138.757\" y2=\"736.62\" stroke-linecap=\"round\" style=\"stroke:black;stroke-width:3\" /><line x1=\"1138.757\" y1=\"736.62\" x2=\"1139.751\" y2=\"732.76\" stroke-linecap=\"round\" style=\"stroke:black;stroke-width:3\" /><line x1=\"1139.751\" y1=\"732.76\" x2=\"1140.7\" y2=\"728.889\" stroke-linecap=\"round\" style=\"stroke:black;stroke-width:3\" /><line x1=\"1140.7\" y1=\"728.889\" x2=\"1141.603\" y2=\"725.007\" stroke-linecap=\"round\" style=\"stroke:black;stroke-width:3\" /><line x1=\"1141.603\" y1=\"725.007\" x2=\"1142.461\" y2=\"721.115\" stroke-linecap=\"round\" style=\"stroke:black;stroke-width:3\" /><line x1=\"1142.461\" y1=\"721.115\" x2=\"1143.273\" y2=\"717.213\" stroke-linecap=\"round\" style=\"stroke:black;stroke-width:3\" /><line x1=\"1143.273\" y1=\"717.213\" x2=\"1144.039\" y2=\"713.302\" stroke-linecap=\"round\" style=\"stroke:black;stroke-width:3\" /><line x1=\"1144.039\" y1=\"713.302\" x2=\"1144.759\" y2=\"709.382\" stroke-linecap=\"round\" style=\"stroke:black;stroke-width:3\" /><line x1=\"1144.759\" y1=\"709.382\" x2=\"1145.433\" y2=\"705.454\" stroke-linecap=\"round\" style=\"stroke:black;stroke-width:3\" /><line x1=\"1145.433\" y1=\"705.454\" x2=\"1146.061\" y2=\"701.518\" stroke-linecap=\"round\" style=\"stroke:black;stroke-width:3\" /><line x1=\"1146.061\" y1=\"701.518\" x2=\"1146.643\" y2=\"697.575\" stroke-linecap=\"round\" style=\"stroke:black;stroke-width:3\" /><line x1=\"1146.643\" y1=\"697.575\" x2=\"1147.179\" y2=\"693.626\" stroke-linecap=\"round\" style=\"stroke:black;stroke-width:3\" /><line x1=\"1147.179\" y1=\"693.626\" x2=\"1147.668\" y2=\"689.671\" stroke-linecap=\"round\" style=\"stroke:black;stroke-width:3\" /><line x1=\"1147.668\" y1=\"689.671\" x2=\"1148.111\" y2=\"685.71\" stroke-linecap=\"round\" style=\"stroke:black;stroke-width:3\" /><line x1=\"1148.111\" y1=\"685.71\" x2=\"1148.507\" y2=\"681.744\" stroke-linecap=\"round\" style=\"stroke:black;stroke-width:3\" /><line x1=\"1148.507\" y1=\"681.744\" x2=\"1148.857\" y2=\"677.774\" stroke-linecap=\"round\" style=\"stroke:black;stroke-width:3\" /><line x1=\"1148.857\" y1=\"677.774\" x2=\"1149.16\" y2=\"673.8\" stroke-linecap=\"round\" style=\"stroke:black;stroke-width:3\" /><line x1=\"1149.16\" y1=\"673.8\" x2=\"1149.417\" y2=\"669.823\" stroke-linecap=\"round\" style=\"stroke:black;stroke-width:3\" /><line x1=\"1149.417\" y1=\"669.823\" x2=\"1149.627\" y2=\"665.843\" stroke-linecap=\"round\" style=\"stroke:black;stroke-width:3\" /><line x1=\"1149.627\" y1=\"665.843\" x2=\"1149.79\" y2=\"661.861\" stroke-linecap=\"round\" style=\"stroke:black;stroke-width:3\" /><line x1=\"1149.79\" y1=\"661.861\" x2=\"1149.907\" y2=\"657.877\" stroke-linecap=\"round\" style=\"stroke:black;stroke-width:3\" /><line x1=\"1149.907\" y1=\"657.877\" x2=\"1149.977\" y2=\"653.892\" stroke-linecap=\"round\" style=\"stroke:black;stroke-width:3\" /><line x1=\"1149.977\" y1=\"653.892\" x2=\"1150.0\" y2=\"649.906\" stroke-linecap=\"round\" style=\"stroke:black;stroke-width:3\" /><line x1=\"1150.0\" y1=\"649.906\" x2=\"1149.985\" y2=\"645.906\" stroke-linecap=\"round\" style=\"stroke:black;stroke-width:3\" /><line x1=\"1149.985\" y1=\"645.906\" x2=\"1149.941\" y2=\"641.907\" stroke-linecap=\"round\" style=\"stroke:black;stroke-width:3\" /><line x1=\"1149.941\" y1=\"641.907\" x2=\"1149.868\" y2=\"637.908\" stroke-linecap=\"round\" style=\"stroke:black;stroke-width:3\" /><line x1=\"1149.868\" y1=\"637.908\" x2=\"1149.766\" y2=\"633.91\" stroke-linecap=\"round\" style=\"stroke:black;stroke-width:3\" /><line x1=\"1149.766\" y1=\"633.91\" x2=\"1149.635\" y2=\"629.912\" stroke-linecap=\"round\" style=\"stroke:black;stroke-width:3\" /><line x1=\"1149.635\" y1=\"629.912\" x2=\"1149.475\" y2=\"625.915\" stroke-linecap=\"round\" style=\"stroke:black;stroke-width:3\" /><line x1=\"1149.475\" y1=\"625.915\" x2=\"1149.286\" y2=\"621.92\" stroke-linecap=\"round\" style=\"stroke:black;stroke-width:3\" /><line x1=\"1149.286\" y1=\"621.92\" x2=\"1149.068\" y2=\"617.926\" stroke-linecap=\"round\" style=\"stroke:black;stroke-width:3\" /><line x1=\"1149.068\" y1=\"617.926\" x2=\"1148.821\" y2=\"613.934\" stroke-linecap=\"round\" style=\"stroke:black;stroke-width:3\" /><line x1=\"1148.821\" y1=\"613.934\" x2=\"1148.545\" y2=\"609.944\" stroke-linecap=\"round\" style=\"stroke:black;stroke-width:3\" /><line x1=\"1148.545\" y1=\"609.944\" x2=\"1148.24\" y2=\"605.956\" stroke-linecap=\"round\" style=\"stroke:black;stroke-width:3\" /><line x1=\"1148.24\" y1=\"605.956\" x2=\"1147.906\" y2=\"601.97\" stroke-linecap=\"round\" style=\"stroke:black;stroke-width:3\" /><line x1=\"1147.906\" y1=\"601.97\" x2=\"1147.543\" y2=\"597.987\" stroke-linecap=\"round\" style=\"stroke:black;stroke-width:3\" /><line x1=\"1147.543\" y1=\"597.987\" x2=\"1147.151\" y2=\"594.007\" stroke-linecap=\"round\" style=\"stroke:black;stroke-width:3\" /><line x1=\"1147.151\" y1=\"594.007\" x2=\"1146.73\" y2=\"590.03\" stroke-linecap=\"round\" style=\"stroke:black;stroke-width:3\" /><line x1=\"1146.73\" y1=\"590.03\" x2=\"1146.28\" y2=\"586.056\" stroke-linecap=\"round\" style=\"stroke:black;stroke-width:3\" /><line x1=\"1146.28\" y1=\"586.056\" x2=\"1145.801\" y2=\"582.085\" stroke-linecap=\"round\" style=\"stroke:black;stroke-width:3\" /><line x1=\"1145.801\" y1=\"582.085\" x2=\"1145.293\" y2=\"578.118\" stroke-linecap=\"round\" style=\"stroke:black;stroke-width:3\" /><line x1=\"1145.293\" y1=\"578.118\" x2=\"1144.757\" y2=\"574.154\" stroke-linecap=\"round\" style=\"stroke:black;stroke-width:3\" /><line x1=\"1144.757\" y1=\"574.154\" x2=\"1144.192\" y2=\"570.194\" stroke-linecap=\"round\" style=\"stroke:black;stroke-width:3\" /><line x1=\"1144.192\" y1=\"570.194\" x2=\"1143.598\" y2=\"566.239\" stroke-linecap=\"round\" style=\"stroke:black;stroke-width:3\" /><line x1=\"1143.598\" y1=\"566.239\" x2=\"1142.975\" y2=\"562.288\" stroke-linecap=\"round\" style=\"stroke:black;stroke-width:3\" /><line x1=\"1142.975\" y1=\"562.288\" x2=\"1142.323\" y2=\"558.342\" stroke-linecap=\"round\" style=\"stroke:black;stroke-width:3\" /><line x1=\"1142.323\" y1=\"558.342\" x2=\"1141.643\" y2=\"554.401\" stroke-linecap=\"round\" style=\"stroke:black;stroke-width:3\" /><line x1=\"1141.643\" y1=\"554.401\" x2=\"1140.934\" y2=\"550.465\" stroke-linecap=\"round\" style=\"stroke:black;stroke-width:3\" /><line x1=\"1140.934\" y1=\"550.465\" x2=\"1140.197\" y2=\"546.534\" stroke-linecap=\"round\" style=\"stroke:black;stroke-width:3\" /><line x1=\"1140.197\" y1=\"546.534\" x2=\"1139.431\" y2=\"542.608\" stroke-linecap=\"round\" style=\"stroke:black;stroke-width:3\" /><line x1=\"1139.431\" y1=\"542.608\" x2=\"1138.636\" y2=\"538.688\" stroke-linecap=\"round\" style=\"stroke:black;stroke-width:3\" /><line x1=\"1138.636\" y1=\"538.688\" x2=\"1137.813\" y2=\"534.774\" stroke-linecap=\"round\" style=\"stroke:black;stroke-width:3\" /><line x1=\"1137.813\" y1=\"534.774\" x2=\"1136.962\" y2=\"530.866\" stroke-linecap=\"round\" style=\"stroke:black;stroke-width:3\" /><line x1=\"1136.962\" y1=\"530.866\" x2=\"1136.082\" y2=\"526.964\" stroke-linecap=\"round\" style=\"stroke:black;stroke-width:3\" /><line x1=\"1136.082\" y1=\"526.964\" x2=\"1135.174\" y2=\"523.069\" stroke-linecap=\"round\" style=\"stroke:black;stroke-width:3\" /><line x1=\"1135.174\" y1=\"523.069\" x2=\"1134.237\" y2=\"519.18\" stroke-linecap=\"round\" style=\"stroke:black;stroke-width:3\" /><line x1=\"1134.237\" y1=\"519.18\" x2=\"1133.272\" y2=\"515.298\" stroke-linecap=\"round\" style=\"stroke:black;stroke-width:3\" /><line x1=\"1133.272\" y1=\"515.298\" x2=\"1132.279\" y2=\"511.424\" stroke-linecap=\"round\" style=\"stroke:black;stroke-width:3\" /><line x1=\"1132.279\" y1=\"511.424\" x2=\"1131.258\" y2=\"507.557\" stroke-linecap=\"round\" style=\"stroke:black;stroke-width:3\" /><line x1=\"1131.258\" y1=\"507.557\" x2=\"1130.209\" y2=\"503.697\" stroke-linecap=\"round\" style=\"stroke:black;stroke-width:3\" /><line x1=\"1130.209\" y1=\"503.697\" x2=\"1129.132\" y2=\"499.845\" stroke-linecap=\"round\" style=\"stroke:black;stroke-width:3\" /><line x1=\"1129.132\" y1=\"499.845\" x2=\"1128.027\" y2=\"496.001\" stroke-linecap=\"round\" style=\"stroke:black;stroke-width:3\" /><line x1=\"1128.027\" y1=\"496.001\" x2=\"1126.894\" y2=\"492.165\" stroke-linecap=\"round\" style=\"stroke:black;stroke-width:3\" /><line x1=\"1126.894\" y1=\"492.165\" x2=\"1125.733\" y2=\"488.338\" stroke-linecap=\"round\" style=\"stroke:black;stroke-width:3\" /><line x1=\"1125.733\" y1=\"488.338\" x2=\"1124.544\" y2=\"484.519\" stroke-linecap=\"round\" style=\"stroke:black;stroke-width:3\" /><line x1=\"1124.544\" y1=\"484.519\" x2=\"1123.327\" y2=\"480.709\" stroke-linecap=\"round\" style=\"stroke:black;stroke-width:3\" /><line x1=\"1123.327\" y1=\"480.709\" x2=\"1122.083\" y2=\"476.908\" stroke-linecap=\"round\" style=\"stroke:black;stroke-width:3\" /><line x1=\"1122.083\" y1=\"476.908\" x2=\"1120.811\" y2=\"473.116\" stroke-linecap=\"round\" style=\"stroke:black;stroke-width:3\" /><line x1=\"1120.811\" y1=\"473.116\" x2=\"1119.512\" y2=\"469.333\" stroke-linecap=\"round\" style=\"stroke:black;stroke-width:3\" /><line x1=\"1119.512\" y1=\"469.333\" x2=\"1118.185\" y2=\"465.56\" stroke-linecap=\"round\" style=\"stroke:black;stroke-width:3\" /><line x1=\"1118.185\" y1=\"465.56\" x2=\"1116.831\" y2=\"461.797\" stroke-linecap=\"round\" style=\"stroke:black;stroke-width:3\" /><line x1=\"1116.831\" y1=\"461.797\" x2=\"1115.449\" y2=\"458.043\" stroke-linecap=\"round\" style=\"stroke:black;stroke-width:3\" /><line x1=\"1115.449\" y1=\"458.043\" x2=\"1114.04\" y2=\"454.3\" stroke-linecap=\"round\" style=\"stroke:black;stroke-width:3\" /><line x1=\"1114.04\" y1=\"454.3\" x2=\"1112.604\" y2=\"450.567\" stroke-linecap=\"round\" style=\"stroke:black;stroke-width:3\" /><line x1=\"1112.604\" y1=\"450.567\" x2=\"1111.141\" y2=\"446.845\" stroke-linecap=\"round\" style=\"stroke:black;stroke-width:3\" /><line x1=\"1111.141\" y1=\"446.845\" x2=\"1109.651\" y2=\"443.133\" stroke-linecap=\"round\" style=\"stroke:black;stroke-width:3\" /><line x1=\"1109.651\" y1=\"443.133\" x2=\"1108.134\" y2=\"439.432\" stroke-linecap=\"round\" style=\"stroke:black;stroke-width:3\" /><line x1=\"1108.134\" y1=\"439.432\" x2=\"1106.59\" y2=\"435.742\" stroke-linecap=\"round\" style=\"stroke:black;stroke-width:3\" /><line x1=\"1106.59\" y1=\"435.742\" x2=\"1105.019\" y2=\"432.064\" stroke-linecap=\"round\" style=\"stroke:black;stroke-width:3\" /><line x1=\"1105.019\" y1=\"432.064\" x2=\"1103.421\" y2=\"428.397\" stroke-linecap=\"round\" style=\"stroke:black;stroke-width:3\" /><line x1=\"1103.421\" y1=\"428.397\" x2=\"1101.797\" y2=\"424.742\" stroke-linecap=\"round\" style=\"stroke:black;stroke-width:3\" /><line x1=\"1101.797\" y1=\"424.742\" x2=\"1100.146\" y2=\"421.099\" stroke-linecap=\"round\" style=\"stroke:black;stroke-width:3\" /><line x1=\"1100.146\" y1=\"421.099\" x2=\"1098.469\" y2=\"417.468\" stroke-linecap=\"round\" style=\"stroke:black;stroke-width:3\" /><line x1=\"1098.469\" y1=\"417.468\" x2=\"1096.765\" y2=\"413.849\" stroke-linecap=\"round\" style=\"stroke:black;stroke-width:3\" /><line x1=\"1096.765\" y1=\"413.849\" x2=\"1095.035\" y2=\"410.243\" stroke-linecap=\"round\" style=\"stroke:black;stroke-width:3\" /><line x1=\"1095.035\" y1=\"410.243\" x2=\"1093.279\" y2=\"406.649\" stroke-linecap=\"round\" style=\"stroke:black;stroke-width:3\" /><line x1=\"1093.279\" y1=\"406.649\" x2=\"1091.497\" y2=\"403.068\" stroke-linecap=\"round\" style=\"stroke:black;stroke-width:3\" /><line x1=\"1091.497\" y1=\"403.068\" x2=\"1089.689\" y2=\"399.5\" stroke-linecap=\"round\" style=\"stroke:black;stroke-width:3\" /><line x1=\"1089.689\" y1=\"399.5\" x2=\"1087.855\" y2=\"395.946\" stroke-linecap=\"round\" style=\"stroke:black;stroke-width:3\" /><line x1=\"1087.855\" y1=\"395.946\" x2=\"1085.995\" y2=\"392.405\" stroke-linecap=\"round\" style=\"stroke:black;stroke-width:3\" /><line x1=\"1085.995\" y1=\"392.405\" x2=\"1084.11\" y2=\"388.878\" stroke-linecap=\"round\" style=\"stroke:black;stroke-width:3\" /><line x1=\"1084.11\" y1=\"388.878\" x2=\"1082.199\" y2=\"385.364\" stroke-linecap=\"round\" style=\"stroke:black;stroke-width:3\" /><line x1=\"1082.199\" y1=\"385.364\" x2=\"1080.262\" y2=\"381.864\" stroke-linecap=\"round\" style=\"stroke:black;stroke-width:3\" /><line x1=\"1080.262\" y1=\"381.864\" x2=\"1078.3\" y2=\"378.379\" stroke-linecap=\"round\" style=\"stroke:black;stroke-width:3\" /><line x1=\"1078.3\" y1=\"378.379\" x2=\"1076.313\" y2=\"374.908\" stroke-linecap=\"round\" style=\"stroke:black;stroke-width:3\" /><line x1=\"1076.313\" y1=\"374.908\" x2=\"1074.301\" y2=\"371.451\" stroke-linecap=\"round\" style=\"stroke:black;stroke-width:3\" /><line x1=\"1074.301\" y1=\"371.451\" x2=\"1072.263\" y2=\"368.009\" stroke-linecap=\"round\" style=\"stroke:black;stroke-width:3\" /><line x1=\"1072.263\" y1=\"368.009\" x2=\"1070.201\" y2=\"364.582\" stroke-linecap=\"round\" style=\"stroke:black;stroke-width:3\" /><line x1=\"1070.201\" y1=\"364.582\" x2=\"1068.114\" y2=\"361.17\" stroke-linecap=\"round\" style=\"stroke:black;stroke-width:3\" /><line x1=\"1068.114\" y1=\"361.17\" x2=\"1066.002\" y2=\"357.773\" stroke-linecap=\"round\" style=\"stroke:black;stroke-width:3\" /><line x1=\"1066.002\" y1=\"357.773\" x2=\"1063.865\" y2=\"354.392\" stroke-linecap=\"round\" style=\"stroke:black;stroke-width:3\" /><line x1=\"1063.865\" y1=\"354.392\" x2=\"1061.704\" y2=\"351.027\" stroke-linecap=\"round\" style=\"stroke:black;stroke-width:3\" /><line x1=\"1061.704\" y1=\"351.027\" x2=\"1059.518\" y2=\"347.677\" stroke-linecap=\"round\" style=\"stroke:black;stroke-width:3\" /><line x1=\"1059.518\" y1=\"347.677\" x2=\"1057.308\" y2=\"344.343\" stroke-linecap=\"round\" style=\"stroke:black;stroke-width:3\" /><line x1=\"1057.308\" y1=\"344.343\" x2=\"1055.074\" y2=\"341.025\" stroke-linecap=\"round\" style=\"stroke:black;stroke-width:3\" /><line x1=\"1055.074\" y1=\"341.025\" x2=\"1052.816\" y2=\"337.724\" stroke-linecap=\"round\" style=\"stroke:black;stroke-width:3\" /><line x1=\"1052.816\" y1=\"337.724\" x2=\"1050.534\" y2=\"334.439\" stroke-linecap=\"round\" style=\"stroke:black;stroke-width:3\" /><line x1=\"1050.534\" y1=\"334.439\" x2=\"1048.228\" y2=\"331.171\" stroke-linecap=\"round\" style=\"stroke:black;stroke-width:3\" /><line x1=\"1048.228\" y1=\"331.171\" x2=\"1045.898\" y2=\"327.92\" stroke-linecap=\"round\" style=\"stroke:black;stroke-width:3\" /><line x1=\"1045.898\" y1=\"327.92\" x2=\"1043.545\" y2=\"324.686\" stroke-linecap=\"round\" style=\"stroke:black;stroke-width:3\" /><line x1=\"1043.545\" y1=\"324.686\" x2=\"1041.168\" y2=\"321.469\" stroke-linecap=\"round\" style=\"stroke:black;stroke-width:3\" /><line x1=\"1041.168\" y1=\"321.469\" x2=\"1038.768\" y2=\"318.269\" stroke-linecap=\"round\" style=\"stroke:black;stroke-width:3\" /><line x1=\"1038.768\" y1=\"318.269\" x2=\"1036.345\" y2=\"315.087\" stroke-linecap=\"round\" style=\"stroke:black;stroke-width:3\" /><line x1=\"1036.345\" y1=\"315.087\" x2=\"1033.899\" y2=\"311.923\" stroke-linecap=\"round\" style=\"stroke:black;stroke-width:3\" /><line x1=\"1033.899\" y1=\"311.923\" x2=\"1031.43\" y2=\"308.777\" stroke-linecap=\"round\" style=\"stroke:black;stroke-width:3\" /><line x1=\"1031.43\" y1=\"308.777\" x2=\"1028.938\" y2=\"305.649\" stroke-linecap=\"round\" style=\"stroke:black;stroke-width:3\" /><line x1=\"1028.938\" y1=\"305.649\" x2=\"1026.423\" y2=\"302.539\" stroke-linecap=\"round\" style=\"stroke:black;stroke-width:3\" /><line x1=\"1026.423\" y1=\"302.539\" x2=\"1023.886\" y2=\"299.447\" stroke-linecap=\"round\" style=\"stroke:black;stroke-width:3\" /><line x1=\"1023.886\" y1=\"299.447\" x2=\"1021.326\" y2=\"296.374\" stroke-linecap=\"round\" style=\"stroke:black;stroke-width:3\" /><line x1=\"1021.326\" y1=\"296.374\" x2=\"1018.744\" y2=\"293.319\" stroke-linecap=\"round\" style=\"stroke:black;stroke-width:3\" /><line x1=\"1018.744\" y1=\"293.319\" x2=\"1016.14\" y2=\"290.283\" stroke-linecap=\"round\" style=\"stroke:black;stroke-width:3\" /><line x1=\"1016.14\" y1=\"290.283\" x2=\"1013.514\" y2=\"287.266\" stroke-linecap=\"round\" style=\"stroke:black;stroke-width:3\" /><line x1=\"1013.514\" y1=\"287.266\" x2=\"1010.866\" y2=\"284.268\" stroke-linecap=\"round\" style=\"stroke:black;stroke-width:3\" /><line x1=\"1010.866\" y1=\"284.268\" x2=\"1008.196\" y2=\"281.29\" stroke-linecap=\"round\" style=\"stroke:black;stroke-width:3\" /><line x1=\"1008.196\" y1=\"281.29\" x2=\"1005.505\" y2=\"278.331\" stroke-linecap=\"round\" style=\"stroke:black;stroke-width:3\" /><line x1=\"1005.505\" y1=\"278.331\" x2=\"1002.792\" y2=\"275.392\" stroke-linecap=\"round\" style=\"stroke:black;stroke-width:3\" /><line x1=\"1002.792\" y1=\"275.392\" x2=\"1000.058\" y2=\"272.473\" stroke-linecap=\"round\" style=\"stroke:black;stroke-width:3\" /><line x1=\"1000.058\" y1=\"272.473\" x2=\"997.303\" y2=\"269.574\" stroke-linecap=\"round\" style=\"stroke:black;stroke-width:3\" /><line x1=\"997.303\" y1=\"269.574\" x2=\"994.527\" y2=\"266.695\" stroke-linecap=\"round\" style=\"stroke:black;stroke-width:3\" /><line x1=\"994.527\" y1=\"266.695\" x2=\"991.73\" y2=\"263.836\" stroke-linecap=\"round\" style=\"stroke:black;stroke-width:3\" /><line x1=\"991.73\" y1=\"263.836\" x2=\"988.912\" y2=\"260.998\" stroke-linecap=\"round\" style=\"stroke:black;stroke-width:3\" /><line x1=\"988.912\" y1=\"260.998\" x2=\"986.074\" y2=\"258.18\" stroke-linecap=\"round\" style=\"stroke:black;stroke-width:3\" /><line x1=\"986.074\" y1=\"258.18\" x2=\"983.215\" y2=\"255.383\" stroke-linecap=\"round\" style=\"stroke:black;stroke-width:3\" /><line x1=\"983.215\" y1=\"255.383\" x2=\"980.336\" y2=\"252.607\" stroke-linecap=\"round\" style=\"stroke:black;stroke-width:3\" /><line x1=\"980.336\" y1=\"252.607\" x2=\"977.437\" y2=\"249.852\" stroke-linecap=\"round\" style=\"stroke:black;stroke-width:3\" /><line x1=\"977.437\" y1=\"249.852\" x2=\"974.518\" y2=\"247.118\" stroke-linecap=\"round\" style=\"stroke:black;stroke-width:3\" /><line x1=\"974.518\" y1=\"247.118\" x2=\"971.579\" y2=\"244.405\" stroke-linecap=\"round\" style=\"stroke:black;stroke-width:3\" /><line x1=\"971.579\" y1=\"244.405\" x2=\"968.62\" y2=\"241.714\" stroke-linecap=\"round\" style=\"stroke:black;stroke-width:3\" /><line x1=\"968.62\" y1=\"241.714\" x2=\"965.642\" y2=\"239.044\" stroke-linecap=\"round\" style=\"stroke:black;stroke-width:3\" /><line x1=\"965.642\" y1=\"239.044\" x2=\"962.644\" y2=\"236.396\" stroke-linecap=\"round\" style=\"stroke:black;stroke-width:3\" /><line x1=\"962.644\" y1=\"236.396\" x2=\"959.627\" y2=\"233.77\" stroke-linecap=\"round\" style=\"stroke:black;stroke-width:3\" /><line x1=\"959.627\" y1=\"233.77\" x2=\"956.591\" y2=\"231.166\" stroke-linecap=\"round\" style=\"stroke:black;stroke-width:3\" /><line x1=\"956.591\" y1=\"231.166\" x2=\"953.536\" y2=\"228.584\" stroke-linecap=\"round\" style=\"stroke:black;stroke-width:3\" /><line x1=\"953.536\" y1=\"228.584\" x2=\"950.463\" y2=\"226.024\" stroke-linecap=\"round\" style=\"stroke:black;stroke-width:3\" /><line x1=\"950.463\" y1=\"226.024\" x2=\"947.371\" y2=\"223.487\" stroke-linecap=\"round\" style=\"stroke:black;stroke-width:3\" /><line x1=\"947.371\" y1=\"223.487\" x2=\"944.261\" y2=\"220.972\" stroke-linecap=\"round\" style=\"stroke:black;stroke-width:3\" /><line x1=\"944.261\" y1=\"220.972\" x2=\"941.133\" y2=\"218.48\" stroke-linecap=\"round\" style=\"stroke:black;stroke-width:3\" /><line x1=\"941.133\" y1=\"218.48\" x2=\"937.987\" y2=\"216.011\" stroke-linecap=\"round\" style=\"stroke:black;stroke-width:3\" /><line x1=\"937.987\" y1=\"216.011\" x2=\"934.823\" y2=\"213.565\" stroke-linecap=\"round\" style=\"stroke:black;stroke-width:3\" /><line x1=\"934.823\" y1=\"213.565\" x2=\"931.641\" y2=\"211.142\" stroke-linecap=\"round\" style=\"stroke:black;stroke-width:3\" /><line x1=\"931.641\" y1=\"211.142\" x2=\"928.441\" y2=\"208.742\" stroke-linecap=\"round\" style=\"stroke:black;stroke-width:3\" /><line x1=\"928.441\" y1=\"208.742\" x2=\"925.224\" y2=\"206.365\" stroke-linecap=\"round\" style=\"stroke:black;stroke-width:3\" /><line x1=\"925.224\" y1=\"206.365\" x2=\"921.99\" y2=\"204.012\" stroke-linecap=\"round\" style=\"stroke:black;stroke-width:3\" /><line x1=\"921.99\" y1=\"204.012\" x2=\"918.739\" y2=\"201.682\" stroke-linecap=\"round\" style=\"stroke:black;stroke-width:3\" /><line x1=\"918.739\" y1=\"201.682\" x2=\"915.471\" y2=\"199.376\" stroke-linecap=\"round\" style=\"stroke:black;stroke-width:3\" /><line x1=\"915.471\" y1=\"199.376\" x2=\"912.186\" y2=\"197.094\" stroke-linecap=\"round\" style=\"stroke:black;stroke-width:3\" /><line x1=\"912.186\" y1=\"197.094\" x2=\"908.885\" y2=\"194.836\" stroke-linecap=\"round\" style=\"stroke:black;stroke-width:3\" /><line x1=\"908.885\" y1=\"194.836\" x2=\"905.567\" y2=\"192.602\" stroke-linecap=\"round\" style=\"stroke:black;stroke-width:3\" /><line x1=\"905.567\" y1=\"192.602\" x2=\"902.233\" y2=\"190.392\" stroke-linecap=\"round\" style=\"stroke:black;stroke-width:3\" /><line x1=\"902.233\" y1=\"190.392\" x2=\"898.883\" y2=\"188.206\" stroke-linecap=\"round\" style=\"stroke:black;stroke-width:3\" /><line x1=\"898.883\" y1=\"188.206\" x2=\"895.518\" y2=\"186.045\" stroke-linecap=\"round\" style=\"stroke:black;stroke-width:3\" /><line x1=\"895.518\" y1=\"186.045\" x2=\"892.137\" y2=\"183.908\" stroke-linecap=\"round\" style=\"stroke:black;stroke-width:3\" /><line x1=\"892.137\" y1=\"183.908\" x2=\"888.74\" y2=\"181.796\" stroke-linecap=\"round\" style=\"stroke:black;stroke-width:3\" /><line x1=\"888.74\" y1=\"181.796\" x2=\"885.328\" y2=\"179.709\" stroke-linecap=\"round\" style=\"stroke:black;stroke-width:3\" /><line x1=\"885.328\" y1=\"179.709\" x2=\"881.901\" y2=\"177.647\" stroke-linecap=\"round\" style=\"stroke:black;stroke-width:3\" /><line x1=\"881.901\" y1=\"177.647\" x2=\"878.459\" y2=\"175.609\" stroke-linecap=\"round\" style=\"stroke:black;stroke-width:3\" /><line x1=\"878.459\" y1=\"175.609\" x2=\"875.002\" y2=\"173.597\" stroke-linecap=\"round\" style=\"stroke:black;stroke-width:3\" /><line x1=\"875.002\" y1=\"173.597\" x2=\"871.531\" y2=\"171.61\" stroke-linecap=\"round\" style=\"stroke:black;stroke-width:3\" /><line x1=\"871.531\" y1=\"171.61\" x2=\"868.046\" y2=\"169.648\" stroke-linecap=\"round\" style=\"stroke:black;stroke-width:3\" /><line x1=\"868.046\" y1=\"169.648\" x2=\"864.546\" y2=\"167.711\" stroke-linecap=\"round\" style=\"stroke:black;stroke-width:3\" /><line x1=\"864.546\" y1=\"167.711\" x2=\"861.032\" y2=\"165.8\" stroke-linecap=\"round\" style=\"stroke:black;stroke-width:3\" /><line x1=\"861.032\" y1=\"165.8\" x2=\"857.505\" y2=\"163.915\" stroke-linecap=\"round\" style=\"stroke:black;stroke-width:3\" /><line x1=\"857.505\" y1=\"163.915\" x2=\"853.964\" y2=\"162.055\" stroke-linecap=\"round\" style=\"stroke:black;stroke-width:3\" /><line x1=\"853.964\" y1=\"162.055\" x2=\"850.41\" y2=\"160.221\" stroke-linecap=\"round\" style=\"stroke:black;stroke-width:3\" /><line x1=\"850.41\" y1=\"160.221\" x2=\"846.842\" y2=\"158.413\" stroke-linecap=\"round\" style=\"stroke:black;stroke-width:3\" /><line x1=\"846.842\" y1=\"158.413\" x2=\"843.261\" y2=\"156.631\" stroke-linecap=\"round\" style=\"stroke:black;stroke-width:3\" /><line x1=\"843.261\" y1=\"156.631\" x2=\"839.667\" y2=\"154.875\" stroke-linecap=\"round\" style=\"stroke:black;stroke-width:3\" /><line x1=\"839.667\" y1=\"154.875\" x2=\"836.061\" y2=\"153.145\" stroke-linecap=\"round\" style=\"stroke:black;stroke-width:3\" /><line x1=\"836.061\" y1=\"153.145\" x2=\"832.442\" y2=\"151.441\" stroke-linecap=\"round\" style=\"stroke:black;stroke-width:3\" /><line x1=\"832.442\" y1=\"151.441\" x2=\"828.811\" y2=\"149.764\" stroke-linecap=\"round\" style=\"stroke:black;stroke-width:3\" /><line x1=\"828.811\" y1=\"149.764\" x2=\"825.168\" y2=\"148.113\" stroke-linecap=\"round\" style=\"stroke:black;stroke-width:3\" /><line x1=\"825.168\" y1=\"148.113\" x2=\"821.513\" y2=\"146.489\" stroke-linecap=\"round\" style=\"stroke:black;stroke-width:3\" /><line x1=\"821.513\" y1=\"146.489\" x2=\"817.846\" y2=\"144.891\" stroke-linecap=\"round\" style=\"stroke:black;stroke-width:3\" /><line x1=\"817.846\" y1=\"144.891\" x2=\"814.168\" y2=\"143.32\" stroke-linecap=\"round\" style=\"stroke:black;stroke-width:3\" /><line x1=\"814.168\" y1=\"143.32\" x2=\"810.478\" y2=\"141.776\" stroke-linecap=\"round\" style=\"stroke:black;stroke-width:3\" /><line x1=\"810.478\" y1=\"141.776\" x2=\"806.777\" y2=\"140.259\" stroke-linecap=\"round\" style=\"stroke:black;stroke-width:3\" /><line x1=\"806.777\" y1=\"140.259\" x2=\"803.065\" y2=\"138.769\" stroke-linecap=\"round\" style=\"stroke:black;stroke-width:3\" /><line x1=\"803.065\" y1=\"138.769\" x2=\"799.343\" y2=\"137.306\" stroke-linecap=\"round\" style=\"stroke:black;stroke-width:3\" /><line x1=\"799.343\" y1=\"137.306\" x2=\"795.61\" y2=\"135.87\" stroke-linecap=\"round\" style=\"stroke:black;stroke-width:3\" /><line x1=\"795.61\" y1=\"135.87\" x2=\"791.867\" y2=\"134.461\" stroke-linecap=\"round\" style=\"stroke:black;stroke-width:3\" /><line x1=\"791.867\" y1=\"134.461\" x2=\"788.113\" y2=\"133.079\" stroke-linecap=\"round\" style=\"stroke:black;stroke-width:3\" /><line x1=\"788.113\" y1=\"133.079\" x2=\"784.35\" y2=\"131.725\" stroke-linecap=\"round\" style=\"stroke:black;stroke-width:3\" /><line x1=\"784.35\" y1=\"131.725\" x2=\"780.577\" y2=\"130.398\" stroke-linecap=\"round\" style=\"stroke:black;stroke-width:3\" /><line x1=\"780.577\" y1=\"130.398\" x2=\"776.794\" y2=\"129.099\" stroke-linecap=\"round\" style=\"stroke:black;stroke-width:3\" /><line x1=\"776.794\" y1=\"129.099\" x2=\"773.002\" y2=\"127.827\" stroke-linecap=\"round\" style=\"stroke:black;stroke-width:3\" /><line x1=\"773.002\" y1=\"127.827\" x2=\"769.201\" y2=\"126.583\" stroke-linecap=\"round\" style=\"stroke:black;stroke-width:3\" /><line x1=\"769.201\" y1=\"126.583\" x2=\"765.391\" y2=\"125.366\" stroke-linecap=\"round\" style=\"stroke:black;stroke-width:3\" /><line x1=\"765.391\" y1=\"125.366\" x2=\"761.572\" y2=\"124.177\" stroke-linecap=\"round\" style=\"stroke:black;stroke-width:3\" /><line x1=\"761.572\" y1=\"124.177\" x2=\"757.745\" y2=\"123.016\" stroke-linecap=\"round\" style=\"stroke:black;stroke-width:3\" /><line x1=\"757.745\" y1=\"123.016\" x2=\"753.909\" y2=\"121.883\" stroke-linecap=\"round\" style=\"stroke:black;stroke-width:3\" /><line x1=\"753.909\" y1=\"121.883\" x2=\"750.065\" y2=\"120.778\" stroke-linecap=\"round\" style=\"stroke:black;stroke-width:3\" /><line x1=\"750.065\" y1=\"120.778\" x2=\"746.213\" y2=\"119.701\" stroke-linecap=\"round\" style=\"stroke:black;stroke-width:3\" /><line x1=\"746.213\" y1=\"119.701\" x2=\"742.353\" y2=\"118.652\" stroke-linecap=\"round\" style=\"stroke:black;stroke-width:3\" /><line x1=\"742.353\" y1=\"118.652\" x2=\"738.486\" y2=\"117.631\" stroke-linecap=\"round\" style=\"stroke:black;stroke-width:3\" /><line x1=\"738.486\" y1=\"117.631\" x2=\"734.612\" y2=\"116.638\" stroke-linecap=\"round\" style=\"stroke:black;stroke-width:3\" /><line x1=\"734.612\" y1=\"116.638\" x2=\"730.73\" y2=\"115.673\" stroke-linecap=\"round\" style=\"stroke:black;stroke-width:3\" /><line x1=\"730.73\" y1=\"115.673\" x2=\"726.841\" y2=\"114.736\" stroke-linecap=\"round\" style=\"stroke:black;stroke-width:3\" /><line x1=\"726.841\" y1=\"114.736\" x2=\"722.946\" y2=\"113.828\" stroke-linecap=\"round\" style=\"stroke:black;stroke-width:3\" /><line x1=\"722.946\" y1=\"113.828\" x2=\"719.044\" y2=\"112.948\" stroke-linecap=\"round\" style=\"stroke:black;stroke-width:3\" /><line x1=\"719.044\" y1=\"112.948\" x2=\"715.136\" y2=\"112.097\" stroke-linecap=\"round\" style=\"stroke:black;stroke-width:3\" /><line x1=\"715.136\" y1=\"112.097\" x2=\"711.222\" y2=\"111.274\" stroke-linecap=\"round\" style=\"stroke:black;stroke-width:3\" /><line x1=\"711.222\" y1=\"111.274\" x2=\"707.302\" y2=\"110.479\" stroke-linecap=\"round\" style=\"stroke:black;stroke-width:3\" /><line x1=\"707.302\" y1=\"110.479\" x2=\"703.376\" y2=\"109.713\" stroke-linecap=\"round\" style=\"stroke:black;stroke-width:3\" /><line x1=\"703.376\" y1=\"109.713\" x2=\"699.445\" y2=\"108.976\" stroke-linecap=\"round\" style=\"stroke:black;stroke-width:3\" /><line x1=\"699.445\" y1=\"108.976\" x2=\"695.509\" y2=\"108.267\" stroke-linecap=\"round\" style=\"stroke:black;stroke-width:3\" /><line x1=\"695.509\" y1=\"108.267\" x2=\"691.568\" y2=\"107.587\" stroke-linecap=\"round\" style=\"stroke:black;stroke-width:3\" /><line x1=\"691.568\" y1=\"107.587\" x2=\"687.622\" y2=\"106.935\" stroke-linecap=\"round\" style=\"stroke:black;stroke-width:3\" /><line x1=\"687.622\" y1=\"106.935\" x2=\"683.671\" y2=\"106.312\" stroke-linecap=\"round\" style=\"stroke:black;stroke-width:3\" /><line x1=\"683.671\" y1=\"106.312\" x2=\"679.716\" y2=\"105.718\" stroke-linecap=\"round\" style=\"stroke:black;stroke-width:3\" /><line x1=\"679.716\" y1=\"105.718\" x2=\"675.756\" y2=\"105.153\" stroke-linecap=\"round\" style=\"stroke:black;stroke-width:3\" /><line x1=\"675.756\" y1=\"105.153\" x2=\"671.792\" y2=\"104.617\" stroke-linecap=\"round\" style=\"stroke:black;stroke-width:3\" /><line x1=\"671.792\" y1=\"104.617\" x2=\"667.825\" y2=\"104.109\" stroke-linecap=\"round\" style=\"stroke:black;stroke-width:3\" /><line x1=\"667.825\" y1=\"104.109\" x2=\"663.854\" y2=\"103.63\" stroke-linecap=\"round\" style=\"stroke:black;stroke-width:3\" /><line x1=\"663.854\" y1=\"103.63\" x2=\"659.88\" y2=\"103.18\" stroke-linecap=\"round\" style=\"stroke:black;stroke-width:3\" /><line x1=\"659.88\" y1=\"103.18\" x2=\"655.903\" y2=\"102.759\" stroke-linecap=\"round\" style=\"stroke:black;stroke-width:3\" /><line x1=\"655.903\" y1=\"102.759\" x2=\"651.923\" y2=\"102.367\" stroke-linecap=\"round\" style=\"stroke:black;stroke-width:3\" /><line x1=\"651.923\" y1=\"102.367\" x2=\"647.94\" y2=\"102.004\" stroke-linecap=\"round\" style=\"stroke:black;stroke-width:3\" /><line x1=\"647.94\" y1=\"102.004\" x2=\"643.954\" y2=\"101.67\" stroke-linecap=\"round\" style=\"stroke:black;stroke-width:3\" /><line x1=\"643.954\" y1=\"101.67\" x2=\"639.966\" y2=\"101.365\" stroke-linecap=\"round\" style=\"stroke:black;stroke-width:3\" /><line x1=\"639.966\" y1=\"101.365\" x2=\"635.976\" y2=\"101.089\" stroke-linecap=\"round\" style=\"stroke:black;stroke-width:3\" /><line x1=\"635.976\" y1=\"101.089\" x2=\"631.984\" y2=\"100.842\" stroke-linecap=\"round\" style=\"stroke:black;stroke-width:3\" /><line x1=\"631.984\" y1=\"100.842\" x2=\"627.99\" y2=\"100.624\" stroke-linecap=\"round\" style=\"stroke:black;stroke-width:3\" /><line x1=\"627.99\" y1=\"100.624\" x2=\"623.995\" y2=\"100.435\" stroke-linecap=\"round\" style=\"stroke:black;stroke-width:3\" /><line x1=\"623.995\" y1=\"100.435\" x2=\"619.998\" y2=\"100.275\" stroke-linecap=\"round\" style=\"stroke:black;stroke-width:3\" /><line x1=\"619.998\" y1=\"100.275\" x2=\"616.0\" y2=\"100.144\" stroke-linecap=\"round\" style=\"stroke:black;stroke-width:3\" /><line x1=\"616.0\" y1=\"100.144\" x2=\"612.002\" y2=\"100.042\" stroke-linecap=\"round\" style=\"stroke:black;stroke-width:3\" /><line x1=\"612.002\" y1=\"100.042\" x2=\"608.003\" y2=\"99.969\" stroke-linecap=\"round\" style=\"stroke:black;stroke-width:3\" /><line x1=\"608.003\" y1=\"99.969\" x2=\"604.004\" y2=\"99.925\" stroke-linecap=\"round\" style=\"stroke:black;stroke-width:3\" /><line x1=\"604.004\" y1=\"99.925\" x2=\"600.004\" y2=\"99.91\" stroke-linecap=\"round\" style=\"stroke:black;stroke-width:3\" />\n",
              "        \n",
              "        \n",
              "        <g id=\"classic\" visibility=\"visible\" transform=\"rotate(89.79166666667172,600.004,99.91) translate(600.004, 99.91)\">\n",
              "<polygon points=\"-5,-4.5 0,-2.5 5,-4.5 0,4.5\" transform=\"skewX(0) scale(1,1)\" style=\"stroke:black;fill:black;stroke-width:1\" />\n",
              "<animateTransform id = \"one\" attributeName=\"transform\" \n",
              "                      type=\"scale\"\n",
              "                      from=\"1 1\" to=\"1 1\"\n",
              "                      begin=\"0s\" dur=\"0.01s\"\n",
              "                      repeatCount=\"1\"\n",
              "                      additive=\"sum\"\n",
              "                      fill=\"freeze\"\n",
              "                /><animateTransform attributeName=\"transform\"\n",
              "                    type=\"rotate\"\n",
              "                    from=\"0 0 0\" to =\"0.20833333333333334 0 0\"\n",
              "                    begin=\"one.end\" dur=\"0.0005787037037037038s\"\n",
              "                    repeatCount=\"1\"\n",
              "                    additive=\"sum\"\n",
              "                    fill=\"freeze\"\n",
              "                /></g>\n",
              "      </svg>\n",
              "    "
            ]
          },
          "metadata": {}
        }
      ],
      "source": [
        "# 실습 3. 아래 코드는 turtle이라는 drawing tool을 이용하여 n개의 피보나치 수열에 대한 황금 직사각형과 황금 나선을 그리는 코드이다. \n",
        "# n번째까지의 피보나치 수열을 list 형태로 반환하는 get_Fibonacci() 함수를 구현하고 \n",
        "# 긴 주석 ‘’’ ‘’’ 사이에 들어갈 적절한 코드를 작성하여 n개의 황금 직사각형과 이에 내접하는 황금 나선을 완성하시오.\n",
        "# 단, n은 1 이상 10 이하의 자연수\n",
        "# Hint : ppt 참조\n",
        "\n",
        "# 라이브러리 추가\n",
        "# import turtle\n",
        "!pip install ColabTurtlePlus\n",
        "from ColabTurtlePlus import Turtle as turtle\n",
        "turtle.initializeTurtle()\n",
        "import math\n",
        "\n",
        "N = 10   # 피보나치 수열의 개수\n",
        "SIZE = 10   # 황금 직사각형 한 변의 길이\n",
        "pi = math.pi   # 파이(pi) 값\n",
        "\n",
        "turtle.clear()\n",
        "turtle.reset()\n",
        "\n",
        "# Turtle 환경 설정\n",
        "turtle.clearscreen()\n",
        "turtle.setup(1500, 1500)\n",
        "wn = turtle.Screen()\n",
        "myTurtle = turtle.Turtle()  # Screen의 크기와 초기 위치 x = 0, y = 0를 가지는 turtle 객체 정의\n",
        "myTurtle.pensize(3)   # 황금 나선을 나타낼 pen 크기\n",
        "myTurtle.speed(5)\n",
        "\n",
        "\n",
        "# n번째까지의 피보나치 수열들을 리스트 형태로 반환하는 함수\n",
        "def get_fibonacci(length):\n",
        "    current_value, next_value = 0, 1\n",
        "    fibonacci_list = list()\n",
        "    for _ in range(length):\n",
        "        next_value, current_value = current_value + next_value, next_value\n",
        "        fibonacci_list.append(current_value)\n",
        "    return fibonacci_list\n",
        "\n",
        "\n",
        "# 피보나치 수열 계산과 황금 직사각형을 그리는 함수\n",
        "def rectangle(fibo_list):\n",
        "    for fibo in fibo_list:                      \n",
        "        #TODO                  # 커서 방향을 right 방향으로 90도로 변경(= 아래로 변경)\n",
        "        myTurtle.right(90)\n",
        "        #TODO \n",
        "        drawSq(fibo * SIZE)              # drawSq(a) => a 길이의 황금 직사각형을 draw\n",
        "        \n",
        "def drawSq(sides):\n",
        "    for _ in range(6):                     # 사각형의 4개의 변을 지나고 다음 사각형의 시작 지점까지의 거리 2 => 4 + 2 = 6\n",
        "        #TODO                           # 현재 pointer의 방향으로 sides 길이만큼 draw\n",
        "        myTurtle.left(90)\n",
        "        myTurtle.forward(sides)\n",
        "\n",
        "        \n",
        "# 황금 나선을 그리는 함수\n",
        "def sprial(fibo_list):\n",
        "    # 나선을 그릴 pen 방향, 초기 위치 등을 정의\n",
        "    r = SIZE                                 # 호(arc)의 반지름 길이\n",
        "    angle = 90\n",
        "    myTurtle.right((90 + 90*N) % 360)      # 현재 커서(황금 직사각형을 그린 후) 방향을 아래쪽을 가리키도록 초기화\n",
        "    myTurtle.penup()                       # 호를 그리는 pen 방향 및 pen 위치 정의\n",
        "    myTurtle.setpos(0,0)                   \n",
        "    myTurtle.pendown()\n",
        "    # 피보나치 수열에 따른 황금 나선 draw\n",
        "    for fibo in fibo_list:\n",
        "        #TODO  # (n번째 피보나치 수열 값 X SIZE)를 반지름으로하고 angle 만큼의 각도를 가지는 호(arc)를 draw\n",
        "        arc(fibo * SIZE, angle)\n",
        "\n",
        "def arcLine(n, length, angle):\n",
        "    for i in range(n):\n",
        "        myTurtle.forward(length)\n",
        "        myTurtle.left(angle)\n",
        "\n",
        "\n",
        "# 입력된 반지름(r) 길이와 각도(angle)에 대하여 호(arc)를 그리는 함수\n",
        "def arc(r, angle):\n",
        "    arc_length = r * (angle/180) * pi\n",
        "    n = int(arc_length / 4) + 1\n",
        "    step_length = arc_length / n\n",
        "    step_angle = float(angle) / n\n",
        "    myTurtle.left(step_angle/2)\n",
        "    arcLine(n, step_length, step_angle)\n",
        "    myTurtle.right(step_angle/2)\n",
        "\n",
        "\n",
        "fibonacci_list = get_fibonacci(N)                                   # 피보나치 수열 획득\n",
        "rectangle(fibonacci_list)                                     # 황금 직사각형 draw\n",
        "\n",
        "myTurtle.left(90)\n",
        "\n",
        "sprial(fibonacci_list)                                   # 황금 나선 draw"
      ]
    },
    {
      "cell_type": "code",
      "source": [],
      "metadata": {
        "id": "cQrkQFreiel1"
      },
      "id": "cQrkQFreiel1",
      "execution_count": 33,
      "outputs": []
    }
  ],
  "metadata": {
    "kernelspec": {
      "display_name": "Python 3.9.6 64-bit",
      "language": "python",
      "name": "python3"
    },
    "language_info": {
      "codemirror_mode": {
        "name": "ipython",
        "version": 3
      },
      "file_extension": ".py",
      "mimetype": "text/x-python",
      "name": "python",
      "nbconvert_exporter": "python",
      "pygments_lexer": "ipython3",
      "version": "3.9.6"
    },
    "vscode": {
      "interpreter": {
        "hash": "31f2aee4e71d21fbe5cf8b01ff0e069b9275f58929596ceb00d14d90e3e16cd6"
      }
    },
    "colab": {
      "provenance": [],
      "collapsed_sections": []
    }
  },
  "nbformat": 4,
  "nbformat_minor": 5
}