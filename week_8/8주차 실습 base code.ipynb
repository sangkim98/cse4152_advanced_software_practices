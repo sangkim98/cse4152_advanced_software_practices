{
  "cells": [
    {
      "cell_type": "code",
      "execution_count": 31,
      "id": "b1345ead",
      "metadata": {
        "id": "b1345ead"
      },
      "outputs": [
        {
          "name": "stdout",
          "output_type": "stream",
          "text": [
            "더해서 target(594)이 되는 두 원소 : -3 (index = 0), 597 (index = 3)\n"
          ]
        }
      ],
      "source": [
        "# Two Pointer 실습 1\n",
        "# Two Pointer를 이용하여 오름차순으로 정렬된 리스트 arr의 원소 중 2개를 골라 더하였을 때 \n",
        "# target 값을 만들 수 있는 경우의 원소들과 해당 원소들의 인덱스를 출력하시오.\n",
        "# Hint : Two Pointer의 개념을 이용하여 left와 right가 각각 +=1, +-1이 되는 '조건'을 생각하고 코드로 구현\n",
        "\n",
        "def sum_function(nums, target):\n",
        "    #양쪽 끝점에서 각 포인터 시작\n",
        "    left, right = 0, len(nums)-1\n",
        "\n",
        "    while not left == right:   # 포인터들이 겹치면 끝\n",
        "        sum = nums[left] + nums[right]\n",
        "\n",
        "        if(sum > target):\n",
        "            right -= 1\n",
        "        elif(sum < target):\n",
        "            left += 1\n",
        "        else:\n",
        "            break\n",
        "        \n",
        "    return nums[left], nums[right], left, right\n",
        "    \n",
        "# Input arr and target    \n",
        "# arr = [2, 7, 11, 15]\n",
        "# target = 26\n",
        "\n",
        "arr, target = [-3, 9, 12, 597, 4957], 594\n",
        "# arr, target = [2, 3, 5, 7, 11, 13, 17, 19, 23, 29], 17\n",
        "\n",
        "left_num, right_num, left_idx, right_idx = sum_function(arr, target)\n",
        "if left_idx == right_idx:\n",
        "    print(f\"더해서 target({target})이 되는 두 원소가 없습니다.\")\n",
        "else:\n",
        "    print(f\"더해서 target({target})이 되는 두 원소 : {left_num} (index = {left_idx}), {right_num} (index = {right_idx})\")\n",
        "    "
      ]
    },
    {
      "cell_type": "code",
      "execution_count": 2,
      "id": "H1FhL25DkAsy",
      "metadata": {
        "colab": {
          "base_uri": "https://localhost:8080/"
        },
        "id": "H1FhL25DkAsy",
        "outputId": "50e7d680-4a35-4785-bc75-6aa935ab8a1f"
      },
      "outputs": [
        {
          "name": "stdout",
          "output_type": "stream",
          "text": [
            "8\n",
            "6\n"
          ]
        }
      ],
      "source": [
        "# Python에서 두 수 중 최댓값 최솟값 비교\n",
        "a, b = 8, 6\n",
        "\n",
        "print(max(a, b))   # a, b 중 최댓값 출력\n",
        "print(min(a, b))   # a, b 중 최솟값 출력"
      ]
    },
    {
      "cell_type": "code",
      "execution_count": 33,
      "id": "P5t1KlD2eA_o",
      "metadata": {
        "id": "P5t1KlD2eA_o"
      },
      "outputs": [
        {
          "name": "stdout",
          "output_type": "stream",
          "text": [
            "[1, 3, 2, 4, 0, 1, 5, 0, 3]에 쌓인 물의 양 : 11\n"
          ]
        }
      ],
      "source": [
        "# Two Pointer 실습 2\n",
        "# 리스트 height의 원소는 벽 높이를 뜻한다. \n",
        "# height 리스트를 입력받았을 때 벽 사이사이에 얼마나 많은 물이 쌓일지 Two Pointer를 이용하여 계산하는 함수 solution을 완성하시오.\n",
        "# Hint : vol(물의 양)이 늘어나는 경우를 height[left], left_max 그리고 height(right), right_max를 이용하여 구현해보자\n",
        "\n",
        "def solution(height):\n",
        "    if not height:\n",
        "        return 0\n",
        "\n",
        "    vol = 0   # 누적된 물의 양\n",
        "    left, right = 0, len(height) - 1   # Two Pointer 정의\n",
        "    left_max, right_max = height[left], height[right]\n",
        "\n",
        "    while left < right:\n",
        "        left_max, right_max = max(left_max, height[left]), max(right_max, height[right])\n",
        "        \n",
        "        if left_max <= right_max:\n",
        "            vol += left_max - height[left]\n",
        "            left += 1\n",
        "        else:\n",
        "            vol += right_max - height[right]\n",
        "            right -= 1\n",
        "\n",
        "    return vol\n",
        "\n",
        "# height = [0, 1, 0, 2, 1, 0, 1, 3, 2, 1, 2, 1]\n",
        "# height = [4, 0, 3, 0, 2, 0, 1, 0]\n",
        "height = [1, 3, 2, 4, 0, 1, 5, 0, 3]\n",
        "\n",
        "\n",
        "print(f\"{height}에 쌓인 물의 양 : {solution(height)}\")"
      ]
    },
    {
      "cell_type": "code",
      "execution_count": 34,
      "id": "I3sILsAseBCm",
      "metadata": {
        "id": "I3sILsAseBCm"
      },
      "outputs": [
        {
          "name": "stdout",
          "output_type": "stream",
          "text": [
            "Print all elements of the implemented linked list in order from the beginning(= head)\n",
            "-2\n",
            "-2\n",
            "-2\n",
            "-2\n",
            "0\n",
            "1\n",
            "5\n",
            "7\n",
            "7\n",
            "11\n",
            "14\n",
            "----------------------------------------------------------------------------------------------\n",
            "After removing duplicates : [0, 1, 5, 11, 14]\n"
          ]
        }
      ],
      "source": [
        "# Two Pointer 실습 3\n",
        "# 오름차순으로 정렬된 리스트 num_list를 연결리스트로 구현하고, \n",
        "# 연결리스트에 대하여 중복된 원소의 노드를 삭제한 후, 결과를 출력하시오.(Two Pointer 이용)\n",
        "# 연결리스트 구현 코드는 제공됨\n",
        "# Hint : 중복된 노드는 ListNode의 .next를 이용하여 그 다음 노드에 연결함으로써 중복 원소를 연결리스트에서 제거할 수 있다.\n",
        "\n",
        "# 연결리스트 자료구조 정의\n",
        "class ListNode(object):\n",
        "    def __init__(self, val=0, next=None):   # __init__ : ListNode 클래스의 생성자\n",
        "        self.val = val  # 현재 노드의 data 정의\n",
        "        self.next = next   # 현재 노드에서 연결된(linked) 다음 노드 정의\n",
        "\n",
        "\n",
        "class Solution(object):\n",
        "    def deleteDuplicates(self, head):\n",
        "        # add dummy and initialize all the pointers\n",
        "        dummy = ListNode(0) \n",
        "        dummy.next = head \n",
        "        pre = dummy\n",
        "        cur = head\n",
        "        change = False\n",
        "        while cur:\n",
        "            if(cur.next and pre.next.val == cur.next.val):\n",
        "                while(cur.next and pre.next.val == cur.next.val):\n",
        "                    cur.next = cur.next.next\n",
        "                pre.next = cur.next\n",
        "            else:\n",
        "                pre = cur\n",
        "            cur = cur.next\n",
        "        return dummy.next\n",
        "    \n",
        "# num_list = [1, 2, 3, 3, 4, 4, 5]   # input\n",
        "num_list = [-2, -2, -2, -2, 0, 1, 5, 7, 7, 11, 14]\n",
        "# num_list = [121, 121, 12321, 12321, 12321, 1234321, 4321234]\n",
        "\n",
        "\n",
        "# input에 대한 연결리스트 정의\n",
        "for i, num in enumerate(num_list):\n",
        "    if i==0:\n",
        "        head = ListNode(num)\n",
        "        curr_node = head\n",
        "    else:\n",
        "        curr_node.next = ListNode(num)\n",
        "        curr_node = curr_node.next\n",
        "\n",
        "# 연결리스트가 잘 구현되었는지 첫 노드부터 순서대로 출력\n",
        "print(\"Print all elements of the implemented linked list in order from the beginning(= head)\")\n",
        "node=head\n",
        "while node:\n",
        "    print(node.val)\n",
        "    node=node.next\n",
        "print(\"----------------------------------------------------------------------------------------------\")\n",
        "\n",
        "sol_node = Solution().deleteDuplicates(head = head)   # 중복 원소가 제거된 연결리스트 sol_node\n",
        "\n",
        "result = []\n",
        "while sol_node:\n",
        "    result.append(sol_node.val)\n",
        "    sol_node=sol_node.next\n",
        "\n",
        "print(f\"After removing duplicates : {result}\")   # 결과 출력"
      ]
    },
    {
      "cell_type": "code",
      "execution_count": 5,
      "id": "SuPGkNzieBGO",
      "metadata": {
        "id": "SuPGkNzieBGO"
      },
      "outputs": [
        {
          "name": "stdout",
          "output_type": "stream",
          "text": [
            "Case 1(list) : Counter({'hi': 3, 'hey': 2, 'hello': 1})\n",
            "\n",
            "Case 2(string) : Counter({'l': 3, 'o': 2, 'h': 1, 'e': 1, ' ': 1, 'w': 1, 'r': 1, 'd': 1})\n"
          ]
        }
      ],
      "source": [
        "# collection 패키지의 Counter 함수 소개\n",
        "from collections import Counter\n",
        "\n",
        "# 리스트와 같은 자료형 입력 시, 각 원소가 리스트에서 몇 번씩 나타나는지를 알려주는 객체 반환\n",
        "print(f'Case 1(list) : {Counter([\"hi\", \"hey\", \"hi\", \"hi\", \"hello\", \"hey\"])}\\n')\n",
        "\n",
        "# 문자열 입력 시, 각 문자가 문자열에서 몇 번씩 나타나는지를 알려주는 객체 반환\n",
        "print(f'Case 2(string) : {Counter(\"hello world\")}')"
      ]
    },
    {
      "cell_type": "code",
      "execution_count": 35,
      "id": "qUSh4Z18eBI_",
      "metadata": {
        "id": "qUSh4Z18eBI_"
      },
      "outputs": [
        {
          "name": "stdout",
          "output_type": "stream",
          "text": [
            "애너그램 시작 인덱스 : [0, 3, 6, 10, 14]\n"
          ]
        }
      ],
      "source": [
        "# Sliding Window 실습 1\n",
        "# 문자열 s1와 s2가 주어졌을 때, s2가 s1의 애너그램이 되는 경우의 시작 인덱스 값을 리스트 형태로 반환하시오.\n",
        "# Hint : Sliding window의 window 크기는 s2이다.\n",
        "\n",
        "def findAnagrams(s, p):\n",
        "    cnt = Counter(p)\n",
        "    ans = []\n",
        "    l = 0\n",
        "\n",
        "    for begin in range(len(s)-len(p)):\n",
        "        temp = Counter(s[begin:begin+len(p)])\n",
        "        if(temp == cnt):\n",
        "            ans.append(begin)\n",
        "                \n",
        "    return ans\n",
        "  \n",
        "# s1, s2 = \"cbaebabacd\", \"abc\"\n",
        "# s1, s2 = \"dkfiqldjfn\", \"df\"\n",
        "s1, s2 = \"qweqwiqwejwqenqwev\", \"qw\"\n",
        "\n",
        "print(f\"애너그램 시작 인덱스 : {findAnagrams(s1, s2)}\")"
      ]
    },
    {
      "cell_type": "code",
      "execution_count": 37,
      "id": "Jx4Uq9XNeE1H",
      "metadata": {
        "id": "Jx4Uq9XNeE1H"
      },
      "outputs": [
        {
          "name": "stdout",
          "output_type": "stream",
          "text": [
            "slidingwindow의 가장 긴 부분 문자열의 길이 : 6\n"
          ]
        }
      ],
      "source": [
        "# Sliding Window 실습 2\n",
        "# 문자열 str에서 가장 긴 부분 문자열의 길이를 출력하는 함수 solution을 완성하시오.\n",
        "# Hint : 한 문자씩 이동하며 부분 문자열 여부를 확인하므로 window size가 1이다.\n",
        "# Sliding Window와 Two Pointer의 공통점 : 2개의 포인터를 사용함\n",
        "# 차이점 : Sliding Window는 구간의 너비가 고정이나 Two Pointer는 구간의 너비가 유동적임\n",
        "\n",
        "def solution(s):\n",
        "    ans = 0   # 부분 문자열의 길이\n",
        "    left_cursor = 0   # 왼쪽 포인터\n",
        "    used = {}   # window로 검사한 문자 인덱스 정보 저장\n",
        "\n",
        "    for right_cursor, char in enumerate(s):\n",
        "        used = Counter(s[left_cursor:right_cursor+1])\n",
        "        new_val = 0\n",
        "        for key, value in used.items():\n",
        "            if(value == 1):\n",
        "                new_val += 1\n",
        "            else:\n",
        "                left_cursor += 1\n",
        "                break\n",
        "        ans = max(ans, new_val)\n",
        "        # print(used)\n",
        "\n",
        "    return ans\n",
        "\n",
        "# str = 'pwwkew'\n",
        "# str = \"abcdefghijklmnopqrstuvwxyz\"\n",
        "str = \"slidingwindow\"\n",
        "\n",
        "print(f\"{str}의 가장 긴 부분 문자열의 길이 : {solution(str)}\")\n"
      ]
    },
    {
      "cell_type": "code",
      "execution_count": 1,
      "id": "uIglTd2beE3m",
      "metadata": {
        "id": "uIglTd2beE3m"
      },
      "outputs": [
        {
          "name": "stdout",
          "output_type": "stream",
          "text": [
            "[5.6, 7.8, 10.6, 13.4, 16.6, 20.2, 23.8, 27.8, 32.2]\n"
          ]
        }
      ],
      "source": [
        "# Sliding Window 실습 3\n",
        "# 숫자 리스트와 윈도우 크기가 주어졌을 때, 윈도우를 오른쪽으로 이동시키며 평균값을 계산하시오.\n",
        "# 효율적인 평균 값 계산을 위하여, 윈도우 이동 시 제외되는 수와 추가되는 수를 이용하여 현재 평균값을 업데이트\n",
        "\n",
        "def update_avg(cur_avg, old, new):\n",
        "  cur_avg -= old\n",
        "  cur_avg += new\n",
        "\n",
        "  return cur_avg\n",
        "\n",
        "def solution(num_list, window_size):\n",
        "  result = []\n",
        "\n",
        "  for start in range(len(num_list) - window_size + 1):\n",
        "    if(start == 0):\n",
        "      result.append(sum(num_list[start:start+window_size])/window_size)\n",
        "    else:\n",
        "      result.append(update_avg(result[start-1]*window_size, num_list[start-1], num_list[start+window_size-1])/window_size)\n",
        "  return result\n",
        "\n",
        "# num_list, window_size = [2, 3, 5, 7, 11, 13, 17, 19, 23, 29, 31, 37, 41], 5\n",
        "# num_list, window_size = [1,2,3,2,4,5,4,6], 5\n",
        "# num_list, window_size = [1, 1, 2, 3, 5, 8, 13, 21, 34], 4\n",
        "num_list, window_size = [2, 3, 5, 7, 11, 13, 17, 19, 23, 29, 31, 37, 41], 5\n",
        "\n",
        "print(solution(num_list, window_size))"
      ]
    },
    {
      "cell_type": "code",
      "execution_count": null,
      "id": "qWXPpQS7eE6O",
      "metadata": {
        "id": "qWXPpQS7eE6O"
      },
      "outputs": [],
      "source": []
    }
  ],
  "metadata": {
    "colab": {
      "collapsed_sections": [],
      "provenance": []
    },
    "interpreter": {
      "hash": "74583735960616a1742bd848face5f116af758f3eda3d10e65da9baf495c837d"
    },
    "kernelspec": {
      "display_name": "Python 3.9.13 ('base')",
      "language": "python",
      "name": "python3"
    },
    "language_info": {
      "codemirror_mode": {
        "name": "ipython",
        "version": 3
      },
      "file_extension": ".py",
      "mimetype": "text/x-python",
      "name": "python",
      "nbconvert_exporter": "python",
      "pygments_lexer": "ipython3",
      "version": "3.9.13"
    }
  },
  "nbformat": 4,
  "nbformat_minor": 5
}
